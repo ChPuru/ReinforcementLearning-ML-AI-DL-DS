{
 "cells": [
  {
   "cell_type": "markdown",
   "metadata": {
    "id": "wx37i2gTo2w2"
   },
   "source": [
    "## Install Modules"
   ]
  },
  {
   "cell_type": "code",
   "execution_count": null,
   "metadata": {
    "id": "OwJSQ501n14B"
   },
   "outputs": [],
   "source": [
    "!pip install tweepy --ignore-installed\n",
    "!pip install flair"
   ]
  },
  {
   "cell_type": "markdown",
   "metadata": {
    "id": "9rM-Cohxpoxz"
   },
   "source": [
    "## Configuration"
   ]
  },
  {
   "cell_type": "markdown",
   "metadata": {
    "id": "4p2o0iVxv3ZC"
   },
   "source": [
    "Get Keys from here: https://developer.twitter.com/en/portal/dashboard"
   ]
  },
  {
   "cell_type": "code",
   "execution_count": null,
   "metadata": {
    "id": "wSRLCGU9pBNu"
   },
   "outputs": [],
   "source": [
    "bearer = \"<<KEY>>\"\n",
    "consumer_key = \"<<KEY>>\"\n",
    "consumer_secret = \"<<KEY>>\" \n",
    "access_token = \"<<KEY>>\"\n",
    "access_token_secret = \"<<KEY>>\""
   ]
  },
  {
   "cell_type": "markdown",
   "metadata": {
    "id": "qhSSTkrYpwNE"
   },
   "source": [
    "## Import Modules"
   ]
  },
  {
   "cell_type": "code",
   "execution_count": null,
   "metadata": {
    "id": "1ZEUJDtLpvYs"
   },
   "outputs": [],
   "source": [
    "import tweepy\n",
    "import re\n",
    "import time\n",
    "\n",
    "from flair.models import TextClassifier\n",
    "from flair.data import Sentence"
   ]
  },
  {
   "cell_type": "code",
   "execution_count": null,
   "metadata": {
    "colab": {
     "base_uri": "https://localhost:8080/"
    },
    "id": "1hIFfY0OqOxU",
    "outputId": "5a1b7594-62c9-47f8-bc39-9f6022a0f9f0"
   },
   "outputs": [],
   "source": [
    "## initialize tweepy\n",
    "api = tweepy.Client(bearer, consumer_key, consumer_secret, access_token, access_token_secret)\n",
    "api.get_me()"
   ]
  },
  {
   "cell_type": "code",
   "execution_count": null,
   "metadata": {
    "colab": {
     "base_uri": "https://localhost:8080/"
    },
    "id": "d7opaPFFpyPs",
    "outputId": "8663eca8-e402-4241-eed5-f723f136d4af"
   },
   "outputs": [],
   "source": [
    "## get tweets in realtime\n",
    "response = api.search_recent_tweets('#crypto')\n",
    "\n",
    "tweets = response.data\n",
    "for tweet in tweets:\n",
    "    print(tweet.text)\n",
    "    print('-----------------------------------------------')"
   ]
  },
  {
   "cell_type": "code",
   "execution_count": null,
   "metadata": {
    "id": "zIZ8yCKBpyM9"
   },
   "outputs": [],
   "source": [
    "def preprocess_text(text):\n",
    "    # convert to lower case\n",
    "    text = text.lower()\n",
    "    # remove user handle\n",
    "    text = re.sub(\"@[\\w]*\", \"\", text)\n",
    "    # remove http links\n",
    "    text = re.sub(\"http\\S+\", \"\", text)\n",
    "    # remove digits and spl characters\n",
    "    text = re.sub(\"[^a-zA-Z#]\", \" \", text)\n",
    "    # remove rt characters\n",
    "    text = re.sub(\"rt\", \"\", text)\n",
    "    # remove additional spaces\n",
    "    text = re.sub(\"\\s+\", \" \", text)\n",
    "\n",
    "    return text"
   ]
  },
  {
   "cell_type": "code",
   "execution_count": null,
   "metadata": {
    "colab": {
     "base_uri": "https://localhost:8080/",
     "height": 35
    },
    "id": "JmCtyamSpyLP",
    "outputId": "1fe6cd63-f8f1-410f-d789-7eee81e59b37"
   },
   "outputs": [],
   "source": [
    "tweet.text"
   ]
  },
  {
   "cell_type": "code",
   "execution_count": null,
   "metadata": {
    "colab": {
     "base_uri": "https://localhost:8080/",
     "height": 35
    },
    "id": "y6Em-y40pyJY",
    "outputId": "4ef456bc-5ea7-403f-e792-842c52d932f2"
   },
   "outputs": [],
   "source": [
    "preprocess_text(tweet.text)"
   ]
  },
  {
   "cell_type": "code",
   "execution_count": null,
   "metadata": {
    "colab": {
     "base_uri": "https://localhost:8080/"
    },
    "id": "P5FMQW5LpyHa",
    "outputId": "753cebaf-4e88-4fd5-e847-6fc1526d53f4"
   },
   "outputs": [],
   "source": [
    "## create sentiment analysis function\n",
    "classifier = TextClassifier.load('en-sentiment')\n",
    "def get_sentiment(tweet):\n",
    "    sentence = Sentence(tweet)\n",
    "    classifier.predict(sentence)\n",
    "    return str(sentence.labels[0]).split()[0]"
   ]
  },
  {
   "cell_type": "code",
   "execution_count": null,
   "metadata": {
    "colab": {
     "base_uri": "https://localhost:8080/",
     "height": 35
    },
    "id": "0ibLg8mgpyFG",
    "outputId": "10f7537b-c68a-4e09-cccb-0083ebb6ae0c"
   },
   "outputs": [],
   "source": [
    "get_sentiment(tweet.text)"
   ]
  },
  {
   "cell_type": "markdown",
   "metadata": {
    "id": "Tk179BiktmFc"
   },
   "source": [
    "## Realtime Twitter Sentiments"
   ]
  },
  {
   "cell_type": "code",
   "execution_count": null,
   "metadata": {
    "colab": {
     "base_uri": "https://localhost:8080/"
    },
    "id": "4Evc6LJUpyBz",
    "outputId": "32ee93ca-c0e0-4604-ee1c-7a726669723f"
   },
   "outputs": [],
   "source": [
    "## preprocess the tweets\n",
    "def preprocess_text(text):\n",
    "    # convert to lower case\n",
    "    text = text.lower()\n",
    "    # remove user handle\n",
    "    text = re.sub(\"@[\\w]*\", \"\", text)\n",
    "    # remove http links\n",
    "    text = re.sub(\"http\\S+\", \"\", text)\n",
    "    # remove digits and spl characters\n",
    "    text = re.sub(\"[^a-zA-Z#]\", \" \", text)\n",
    "    # remove rt characters\n",
    "    text = re.sub(\"rt\", \"\", text)\n",
    "    # remove additional spaces\n",
    "    text = re.sub(\"\\s+\", \" \", text)\n",
    "\n",
    "    return text\n",
    "\n",
    "## create sentiment analysis function\n",
    "classifier = TextClassifier.load('en-sentiment')\n",
    "def get_sentiment(tweet):\n",
    "    sentence = Sentence(tweet)\n",
    "    classifier.predict(sentence)\n",
    "    return str(sentence.labels).split(\"\\'\")[3]"
   ]
  },
  {
   "cell_type": "code",
   "execution_count": null,
   "metadata": {
    "colab": {
     "base_uri": "https://localhost:8080/",
     "height": 824
    },
    "id": "dWpZY8gkpx_8",
    "outputId": "4ae1d729-4913-401e-cc32-d9f2fddfda99"
   },
   "outputs": [],
   "source": [
    "## get realtime sentiments\n",
    "while True:\n",
    "    # get tweets (10 tweets)\n",
    "    tweets = api.search_recent_tweets('#crypto').data\n",
    "\n",
    "    for tweet in tweets:\n",
    "        original_tweet = tweet.text\n",
    "        clean_tweet = preprocess_text(original_tweet)\n",
    "        sentiment = get_sentiment(clean_tweet)\n",
    "\n",
    "        print('------------------------Tweet-------------------------------')\n",
    "        print(original_tweet)\n",
    "        print('------------------------------------------------------------')\n",
    "        print('Sentiment:', sentiment)\n",
    "        time.sleep(1)\n",
    "        print('\\n\\n')"
   ]
  },
  {
   "cell_type": "code",
   "execution_count": null,
   "metadata": {
    "id": "C9_Uh7Ucpx8z"
   },
   "outputs": [],
   "source": []
  }
 ],
 "metadata": {
  "colab": {
   "collapsed_sections": [],
   "name": "Realtime Twitter Sentiment Analysis - Flair.ipynb",
   "provenance": []
  },
  "kernelspec": {
   "display_name": "Python 3",
   "language": "python",
   "name": "python3"
  },
  "language_info": {
   "codemirror_mode": {
    "name": "ipython",
    "version": 3
   },
   "file_extension": ".py",
   "mimetype": "text/x-python",
   "name": "python",
   "nbconvert_exporter": "python",
   "pygments_lexer": "ipython3",
   "version": "3.8.3"
  }
 },
 "nbformat": 4,
 "nbformat_minor": 1
}
