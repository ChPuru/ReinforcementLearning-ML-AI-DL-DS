{
 "cells": [
  {
   "cell_type": "markdown",
   "metadata": {},
   "source": [
    "## Import Modules"
   ]
  },
  {
   "cell_type": "code",
   "execution_count": null,
   "metadata": {
    "execution": {
     "iopub.execute_input": "2022-03-06T08:40:15.305576Z",
     "iopub.status.busy": "2022-03-06T08:40:15.304922Z",
     "iopub.status.idle": "2022-03-06T08:40:16.990166Z",
     "shell.execute_reply": "2022-03-06T08:40:16.989481Z",
     "shell.execute_reply.started": "2022-03-06T08:40:15.305527Z"
    },
    "trusted": true
   },
   "outputs": [],
   "source": [
    "import pandas as pd\n",
    "import numpy as np\n",
    "import time\n",
    "import os\n",
    "import copy\n",
    "import json\n",
    "\n",
    "# visualization modules\n",
    "import seaborn as sns\n",
    "import matplotlib.pyplot as plt\n",
    "from PIL import Image\n",
    "\n",
    "# pytorch modules\n",
    "import torch\n",
    "import torch.nn as nn\n",
    "import torch.optim as optim\n",
    "from torch.nn import functional as F\n",
    "from torch.utils.data import Dataset, DataLoader\n",
    "from torchvision import models\n",
    "import torchvision.transforms as transforms\n",
    "\n",
    "# augmentation\n",
    "import albumentations\n",
    "from albumentations.pytorch.transforms import ToTensorV2\n",
    "\n",
    "import warnings\n",
    "warnings.filterwarnings('ignore')\n",
    "%matplotlib inline"
   ]
  },
  {
   "cell_type": "markdown",
   "metadata": {},
   "source": [
    "## Load the Dataset"
   ]
  },
  {
   "cell_type": "code",
   "execution_count": null,
   "metadata": {
    "execution": {
     "iopub.execute_input": "2022-03-06T08:40:19.825639Z",
     "iopub.status.busy": "2022-03-06T08:40:19.825035Z",
     "iopub.status.idle": "2022-03-06T08:40:19.863516Z",
     "shell.execute_reply": "2022-03-06T08:40:19.862900Z",
     "shell.execute_reply.started": "2022-03-06T08:40:19.825599Z"
    },
    "trusted": true
   },
   "outputs": [],
   "source": [
    "BASE_DIR = \"../input/cassava-leaf-disease-classification/\"\n",
    "\n",
    "train = pd.read_csv(BASE_DIR+'train.csv')\n",
    "train.head()"
   ]
  },
  {
   "cell_type": "code",
   "execution_count": null,
   "metadata": {
    "execution": {
     "iopub.execute_input": "2022-03-06T08:40:20.115570Z",
     "iopub.status.busy": "2022-03-06T08:40:20.114855Z",
     "iopub.status.idle": "2022-03-06T08:40:20.129245Z",
     "shell.execute_reply": "2022-03-06T08:40:20.128480Z",
     "shell.execute_reply.started": "2022-03-06T08:40:20.115533Z"
    },
    "trusted": true
   },
   "outputs": [],
   "source": [
    "# loading mapping for target label\n",
    "with open(BASE_DIR+'label_num_to_disease_map.json') as f:\n",
    "    mapping = json.loads(f.read())\n",
    "    mapping = {int(k): v for k, v in mapping.items()}\n",
    "mapping"
   ]
  },
  {
   "cell_type": "code",
   "execution_count": null,
   "metadata": {
    "execution": {
     "iopub.execute_input": "2022-03-06T08:40:20.357939Z",
     "iopub.status.busy": "2022-03-06T08:40:20.357240Z",
     "iopub.status.idle": "2022-03-06T08:40:20.378982Z",
     "shell.execute_reply": "2022-03-06T08:40:20.378283Z",
     "shell.execute_reply.started": "2022-03-06T08:40:20.357900Z"
    },
    "trusted": true
   },
   "outputs": [],
   "source": [
    "train['label_names'] = train['label'].map(mapping)\n",
    "train.head()"
   ]
  },
  {
   "cell_type": "markdown",
   "metadata": {},
   "source": [
    "## Exploratory Data Analysis"
   ]
  },
  {
   "cell_type": "code",
   "execution_count": null,
   "metadata": {
    "execution": {
     "iopub.execute_input": "2022-03-06T08:40:20.940267Z",
     "iopub.status.busy": "2022-03-06T08:40:20.939994Z",
     "iopub.status.idle": "2022-03-06T08:40:20.957075Z",
     "shell.execute_reply": "2022-03-06T08:40:20.956119Z",
     "shell.execute_reply.started": "2022-03-06T08:40:20.940236Z"
    },
    "trusted": true
   },
   "outputs": [],
   "source": [
    "def plot_images(class_id, label, total_images=6):\n",
    "    # get image ids corresponding to the target class id\n",
    "    plot_list = train[train['label']==class_id].sample(total_images)['image_id'].tolist()\n",
    "    \n",
    "    labels = [label for i in range(total_images)]\n",
    "    # dynamically set size for subplot\n",
    "    size = int(np.sqrt(total_images))\n",
    "    if size*size < total_images:\n",
    "        size += 1\n",
    "    \n",
    "    # set figure size\n",
    "    plt.figure(figsize=(15,15))\n",
    "    \n",
    "    # plot the image in subplot\n",
    "    for index, (image_id, label) in enumerate(zip(plot_list, labels)):\n",
    "        plt.subplot(size, size, index+1)\n",
    "        image = Image.open(str(BASE_DIR+'train_images/'+image_id))\n",
    "        plt.imshow(image)\n",
    "        plt.title(label, fontsize=14)\n",
    "        plt.axis('off')\n",
    "        \n",
    "    plt.show()"
   ]
  },
  {
   "cell_type": "code",
   "execution_count": null,
   "metadata": {
    "execution": {
     "iopub.execute_input": "2022-03-06T08:40:21.204260Z",
     "iopub.status.busy": "2022-03-06T08:40:21.203858Z",
     "iopub.status.idle": "2022-03-06T08:40:22.233815Z",
     "shell.execute_reply": "2022-03-06T08:40:22.231531Z",
     "shell.execute_reply.started": "2022-03-06T08:40:21.204218Z"
    },
    "trusted": true
   },
   "outputs": [],
   "source": [
    "plot_images(0, mapping[0], 6)"
   ]
  },
  {
   "cell_type": "code",
   "execution_count": null,
   "metadata": {
    "execution": {
     "iopub.execute_input": "2022-03-06T08:40:22.236009Z",
     "iopub.status.busy": "2022-03-06T08:40:22.235222Z",
     "iopub.status.idle": "2022-03-06T08:40:23.176958Z",
     "shell.execute_reply": "2022-03-06T08:40:23.176354Z",
     "shell.execute_reply.started": "2022-03-06T08:40:22.235972Z"
    },
    "trusted": true
   },
   "outputs": [],
   "source": [
    "plot_images(1, mapping[1], 6)"
   ]
  },
  {
   "cell_type": "code",
   "execution_count": null,
   "metadata": {
    "execution": {
     "iopub.execute_input": "2022-03-06T08:40:23.178691Z",
     "iopub.status.busy": "2022-03-06T08:40:23.178237Z",
     "iopub.status.idle": "2022-03-06T08:40:23.972093Z",
     "shell.execute_reply": "2022-03-06T08:40:23.971504Z",
     "shell.execute_reply.started": "2022-03-06T08:40:23.178655Z"
    },
    "trusted": true
   },
   "outputs": [],
   "source": [
    "plot_images(2, mapping[2], 6)"
   ]
  },
  {
   "cell_type": "code",
   "execution_count": null,
   "metadata": {
    "execution": {
     "iopub.execute_input": "2022-03-06T08:40:23.974154Z",
     "iopub.status.busy": "2022-03-06T08:40:23.973815Z",
     "iopub.status.idle": "2022-03-06T08:40:24.770809Z",
     "shell.execute_reply": "2022-03-06T08:40:24.769113Z",
     "shell.execute_reply.started": "2022-03-06T08:40:23.974124Z"
    },
    "trusted": true
   },
   "outputs": [],
   "source": [
    "plot_images(3, mapping[3], 6)"
   ]
  },
  {
   "cell_type": "code",
   "execution_count": null,
   "metadata": {
    "execution": {
     "iopub.execute_input": "2022-03-06T08:40:24.772770Z",
     "iopub.status.busy": "2022-03-06T08:40:24.772324Z",
     "iopub.status.idle": "2022-03-06T08:40:25.588493Z",
     "shell.execute_reply": "2022-03-06T08:40:25.587869Z",
     "shell.execute_reply.started": "2022-03-06T08:40:24.772736Z"
    },
    "trusted": true
   },
   "outputs": [],
   "source": [
    "plot_images(4, mapping[4], 6)"
   ]
  },
  {
   "cell_type": "code",
   "execution_count": null,
   "metadata": {
    "execution": {
     "iopub.execute_input": "2022-03-06T08:40:25.589985Z",
     "iopub.status.busy": "2022-03-06T08:40:25.589656Z",
     "iopub.status.idle": "2022-03-06T08:40:25.816641Z",
     "shell.execute_reply": "2022-03-06T08:40:25.815966Z",
     "shell.execute_reply.started": "2022-03-06T08:40:25.589956Z"
    },
    "trusted": true
   },
   "outputs": [],
   "source": [
    "# class distribution\n",
    "sns.countplot(train['label_names'])\n",
    "plt.xticks(rotation=90)"
   ]
  },
  {
   "cell_type": "markdown",
   "metadata": {},
   "source": [
    "## Configuration and Utility Functions"
   ]
  },
  {
   "cell_type": "code",
   "execution_count": null,
   "metadata": {
    "execution": {
     "iopub.execute_input": "2022-03-06T08:40:25.818319Z",
     "iopub.status.busy": "2022-03-06T08:40:25.817782Z",
     "iopub.status.idle": "2022-03-06T08:40:25.824451Z",
     "shell.execute_reply": "2022-03-06T08:40:25.823650Z",
     "shell.execute_reply.started": "2022-03-06T08:40:25.818277Z"
    },
    "trusted": true
   },
   "outputs": [],
   "source": [
    "DIM = (256, 256)\n",
    "WIDTH, HEIGHT = DIM\n",
    "NUM_CLASSES = 5\n",
    "NUM_WORKERS = 24\n",
    "TRAIN_BATCH_SIZE = 32\n",
    "TEST_BATCH_SIZE = 32\n",
    "SEED = 1\n",
    "\n",
    "DEVICE = 'cuda'\n",
    "\n",
    "MEAN = [0.485, 0.456, 0.406]\n",
    "STD = [0.229, 0.224, 0.225]"
   ]
  },
  {
   "cell_type": "markdown",
   "metadata": {},
   "source": [
    "## Augmentations"
   ]
  },
  {
   "cell_type": "code",
   "execution_count": null,
   "metadata": {
    "execution": {
     "iopub.execute_input": "2022-03-06T08:40:25.827345Z",
     "iopub.status.busy": "2022-03-06T08:40:25.827132Z",
     "iopub.status.idle": "2022-03-06T08:40:25.834000Z",
     "shell.execute_reply": "2022-03-06T08:40:25.833348Z",
     "shell.execute_reply.started": "2022-03-06T08:40:25.827322Z"
    },
    "trusted": true
   },
   "outputs": [],
   "source": [
    "def get_test_transforms(value = 'val'):\n",
    "    if value == 'train':\n",
    "        return albumentations.Compose([\n",
    "            albumentations.Resize(WIDTH, HEIGHT),\n",
    "            albumentations.HorizontalFlip(p=0.5),\n",
    "            albumentations.Rotate(limit=(-90, 90)),\n",
    "            albumentations.VerticalFlip(p=0.5),\n",
    "            albumentations.Normalize(MEAN, STD, max_pixel_value=255.0, always_apply=True),\n",
    "            ToTensorV2(p=1.0)\n",
    "        ])\n",
    "    elif value == 'val':\n",
    "        return albumentations.Compose([\n",
    "            albumentations.Resize(WIDTH, HEIGHT),\n",
    "            albumentations.Normalize(MEAN, STD, max_pixel_value=255.0, always_apply=True),\n",
    "            ToTensorV2(p=1.0)\n",
    "        ])"
   ]
  },
  {
   "cell_type": "markdown",
   "metadata": {},
   "source": [
    "## Dataset Loader Class"
   ]
  },
  {
   "cell_type": "code",
   "execution_count": null,
   "metadata": {
    "execution": {
     "iopub.execute_input": "2022-03-06T08:40:25.836600Z",
     "iopub.status.busy": "2022-03-06T08:40:25.836162Z",
     "iopub.status.idle": "2022-03-06T08:40:25.846059Z",
     "shell.execute_reply": "2022-03-06T08:40:25.845255Z",
     "shell.execute_reply.started": "2022-03-06T08:40:25.836564Z"
    },
    "trusted": true
   },
   "outputs": [],
   "source": [
    "class CassavaDataset(Dataset):\n",
    "    def __init__(self, image_ids, labels, dimension=None, augmentations=None, folder='train_images'):\n",
    "        super().__init__()\n",
    "        self.image_ids = image_ids\n",
    "        self.labels = labels\n",
    "        self.dim = dimension\n",
    "        self.augmentations = augmentations\n",
    "        self.folder = folder\n",
    "    \n",
    "    # returns the length\n",
    "    def __len__(self):\n",
    "        return len(self.image_ids)\n",
    "    \n",
    "    # return the image and label for that index\n",
    "    def __getitem__(self, idx):\n",
    "        img = Image.open(os.path.join(BASE_DIR, self.folder, self.image_ids[idx]))\n",
    "        \n",
    "        if self.dim:\n",
    "            img = img.resize(self.dim)\n",
    "        \n",
    "        # convert to numpy array\n",
    "        img = np.array(img)\n",
    "        \n",
    "        if self.augmentations:\n",
    "            augmented = self.augmentations(image=img)\n",
    "            img = augmented['image']\n",
    "        \n",
    "        label = torch.tensor(self.labels[idx], dtype=torch.long)\n",
    "        return img, label"
   ]
  },
  {
   "cell_type": "markdown",
   "metadata": {},
   "source": [
    "## Train Test Split"
   ]
  },
  {
   "cell_type": "code",
   "execution_count": null,
   "metadata": {
    "execution": {
     "iopub.execute_input": "2022-03-06T08:40:25.847595Z",
     "iopub.status.busy": "2022-03-06T08:40:25.847288Z",
     "iopub.status.idle": "2022-03-06T08:40:25.858661Z",
     "shell.execute_reply": "2022-03-06T08:40:25.857921Z",
     "shell.execute_reply.started": "2022-03-06T08:40:25.847560Z"
    },
    "trusted": true
   },
   "outputs": [],
   "source": [
    "from sklearn.model_selection import train_test_split\n",
    "x_train, x_test, y_train, y_test = train_test_split(train['image_id'], train['label'], test_size=0.25)"
   ]
  },
  {
   "cell_type": "code",
   "execution_count": null,
   "metadata": {
    "execution": {
     "iopub.execute_input": "2022-03-06T08:40:25.861628Z",
     "iopub.status.busy": "2022-03-06T08:40:25.861415Z",
     "iopub.status.idle": "2022-03-06T08:40:25.867382Z",
     "shell.execute_reply": "2022-03-06T08:40:25.866644Z",
     "shell.execute_reply.started": "2022-03-06T08:40:25.861605Z"
    },
    "trusted": true
   },
   "outputs": [],
   "source": [
    "from torch.utils.data import WeightedRandomSampler\n",
    "def sampler_(labels):\n",
    "    label_unique, counts = np.unique(labels, return_counts=True)\n",
    "    print('Unique Labels', label_unique)\n",
    "    weights = [sum(counts) / c for c in counts]\n",
    "    sample_weights = [weights[w] for w in labels]\n",
    "    sampler = WeightedRandomSampler(sample_weights, len(sample_weights), replacement=True)\n",
    "    return sampler"
   ]
  },
  {
   "cell_type": "code",
   "execution_count": null,
   "metadata": {
    "execution": {
     "iopub.execute_input": "2022-03-06T08:40:25.940495Z",
     "iopub.status.busy": "2022-03-06T08:40:25.940272Z",
     "iopub.status.idle": "2022-03-06T08:40:25.952772Z",
     "shell.execute_reply": "2022-03-06T08:40:25.952005Z",
     "shell.execute_reply.started": "2022-03-06T08:40:25.940449Z"
    },
    "trusted": true
   },
   "outputs": [],
   "source": [
    "train_sampler = sampler_(y_train)"
   ]
  },
  {
   "cell_type": "code",
   "execution_count": null,
   "metadata": {
    "execution": {
     "iopub.execute_input": "2022-03-06T08:40:29.549181Z",
     "iopub.status.busy": "2022-03-06T08:40:29.548920Z",
     "iopub.status.idle": "2022-03-06T08:40:29.557580Z",
     "shell.execute_reply": "2022-03-06T08:40:29.556433Z",
     "shell.execute_reply.started": "2022-03-06T08:40:29.549153Z"
    },
    "trusted": true
   },
   "outputs": [],
   "source": [
    "# create dataloaders for training antrain_test_splitidation\n",
    "train_dataset = CassavaDataset(\n",
    "    image_ids=x_train.values,\n",
    "    labels=y_train.values,\n",
    "    augmentations=get_test_transforms('train'),\n",
    "    dimension=DIM\n",
    ")\n",
    "\n",
    "train_loader = DataLoader(\n",
    "    train_dataset,\n",
    "    batch_size=TRAIN_BATCH_SIZE,\n",
    "    num_workers=NUM_WORKERS,\n",
    "    shuffle=False,\n",
    "    sampler=train_sampler\n",
    ")\n",
    "\n",
    "val_dataset = CassavaDataset(\n",
    "    image_ids=x_test.values,\n",
    "    labels=y_test.values,\n",
    "    augmentations=get_test_transforms('val'),\n",
    "    dimension=DIM\n",
    ")\n",
    "\n",
    "val_loader = DataLoader(\n",
    "    val_dataset,\n",
    "    batch_size=TRAIN_BATCH_SIZE,\n",
    "    num_workers=NUM_WORKERS,\n",
    "    shuffle=False\n",
    ")\n",
    "\n",
    "loaders = {'train': train_loader, 'val': val_loader}"
   ]
  },
  {
   "cell_type": "code",
   "execution_count": null,
   "metadata": {
    "execution": {
     "iopub.execute_input": "2022-03-06T08:40:31.434182Z",
     "iopub.status.busy": "2022-03-06T08:40:31.433658Z",
     "iopub.status.idle": "2022-03-06T08:40:31.518990Z",
     "shell.execute_reply": "2022-03-06T08:40:31.518269Z",
     "shell.execute_reply.started": "2022-03-06T08:40:31.434146Z"
    },
    "trusted": true
   },
   "outputs": [],
   "source": [
    "# to check whether dataset is working or not\n",
    "# fetch the data based on index\n",
    "val_dataset[0]"
   ]
  },
  {
   "cell_type": "markdown",
   "metadata": {},
   "source": [
    "## Use Pretrained Model (Transfer Learning)"
   ]
  },
  {
   "cell_type": "code",
   "execution_count": null,
   "metadata": {
    "execution": {
     "iopub.execute_input": "2022-03-06T08:40:34.266289Z",
     "iopub.status.busy": "2022-03-06T08:40:34.266038Z",
     "iopub.status.idle": "2022-03-06T08:40:34.271908Z",
     "shell.execute_reply": "2022-03-06T08:40:34.271251Z",
     "shell.execute_reply.started": "2022-03-06T08:40:34.266263Z"
    },
    "trusted": true
   },
   "outputs": [],
   "source": [
    "def getModel():\n",
    "    net = models.resnet152(pretrained=True)\n",
    "    \n",
    "    # if you want to train the whole network, comment this code\n",
    "    # freeze all the layers in the network\n",
    "    for param in net.parameters():\n",
    "        param.requires_grad = False\n",
    "        \n",
    "    num_ftrs = net.fc.in_features\n",
    "    # create last few layers\n",
    "    net.fc = nn.Sequential(\n",
    "        nn.Linear(num_ftrs, 256),\n",
    "        nn.ReLU(),\n",
    "        nn.Dropout(0.3),\n",
    "        nn.Linear(256, NUM_CLASSES),\n",
    "        nn.LogSoftmax(dim=1)\n",
    "    )\n",
    "    \n",
    "    # use gpu if any\n",
    "    net = net.cuda() if DEVICE else net\n",
    "    return net"
   ]
  },
  {
   "cell_type": "code",
   "execution_count": null,
   "metadata": {
    "execution": {
     "iopub.execute_input": "2022-03-06T08:40:35.426288Z",
     "iopub.status.busy": "2022-03-06T08:40:35.425766Z",
     "iopub.status.idle": "2022-03-06T08:40:45.863243Z",
     "shell.execute_reply": "2022-03-06T08:40:45.862517Z",
     "shell.execute_reply.started": "2022-03-06T08:40:35.426251Z"
    },
    "trusted": true
   },
   "outputs": [],
   "source": [
    "model = getModel()"
   ]
  },
  {
   "cell_type": "code",
   "execution_count": null,
   "metadata": {
    "execution": {
     "iopub.execute_input": "2022-03-06T08:40:45.866304Z",
     "iopub.status.busy": "2022-03-06T08:40:45.865869Z",
     "iopub.status.idle": "2022-03-06T08:40:45.872925Z",
     "shell.execute_reply": "2022-03-06T08:40:45.872055Z",
     "shell.execute_reply.started": "2022-03-06T08:40:45.866265Z"
    },
    "trusted": true
   },
   "outputs": [],
   "source": [
    "import math\n",
    "def cyclical_lr(stepsize, min_lr=3e-4, max_lr=3e-3):\n",
    "\n",
    "    # Scaler: we can adapt this if we do not want the triangular CLR\n",
    "    scaler = lambda x: 1.\n",
    "\n",
    "    # Lambda function to calculate the LR\n",
    "    lr_lambda = lambda it: min_lr + (max_lr - min_lr) * relative(it, stepsize)\n",
    "\n",
    "    # Additional function to see where on the cycle we are\n",
    "    def relative(it, stepsize):\n",
    "        cycle = math.floor(1 + it / (2 * stepsize))\n",
    "        x = abs(it / stepsize - 2 * cycle + 1)\n",
    "        return max(0, (1 - x)) * scaler(cycle)\n",
    "\n",
    "    return lr_lambda"
   ]
  },
  {
   "cell_type": "code",
   "execution_count": null,
   "metadata": {
    "execution": {
     "iopub.execute_input": "2022-03-06T08:40:45.875727Z",
     "iopub.status.busy": "2022-03-06T08:40:45.875515Z",
     "iopub.status.idle": "2022-03-06T08:40:45.892389Z",
     "shell.execute_reply": "2022-03-06T08:40:45.891800Z",
     "shell.execute_reply.started": "2022-03-06T08:40:45.875702Z"
    },
    "trusted": true
   },
   "outputs": [],
   "source": [
    "criterion = nn.CrossEntropyLoss()\n",
    "# optimizer = torch.optim.Adam(model.parameters(), lr=0.1)\n",
    "optimizer = torch.optim.SGD(model.parameters(), lr=1., momentum=0.9)\n",
    "step_size = 4*len(train_loader)\n",
    "clr = cyclical_lr(step_size, min_lr=3e-4, max_lr=3e-3)\n",
    "scheduler = torch.optim.lr_scheduler.LambdaLR(optimizer, [clr])"
   ]
  },
  {
   "cell_type": "code",
   "execution_count": null,
   "metadata": {
    "execution": {
     "iopub.execute_input": "2022-03-06T08:40:45.896211Z",
     "iopub.status.busy": "2022-03-06T08:40:45.895655Z",
     "iopub.status.idle": "2022-03-06T08:40:45.901307Z",
     "shell.execute_reply": "2022-03-06T08:40:45.900600Z",
     "shell.execute_reply.started": "2022-03-06T08:40:45.896179Z"
    },
    "trusted": true
   },
   "outputs": [],
   "source": [
    "# print(model)"
   ]
  },
  {
   "cell_type": "code",
   "execution_count": null,
   "metadata": {
    "execution": {
     "iopub.execute_input": "2022-03-06T08:40:45.903761Z",
     "iopub.status.busy": "2022-03-06T08:40:45.902977Z",
     "iopub.status.idle": "2022-03-06T08:40:45.911377Z",
     "shell.execute_reply": "2022-03-06T08:40:45.910703Z",
     "shell.execute_reply.started": "2022-03-06T08:40:45.903725Z"
    },
    "trusted": true
   },
   "outputs": [],
   "source": [
    "# freeze (or) unfreeze all the layers\n",
    "unfreeze = True # to freeze, set it as False\n",
    "for param in model.parameters():\n",
    "    param.requires_grad = unfreeze"
   ]
  },
  {
   "cell_type": "code",
   "execution_count": null,
   "metadata": {
    "execution": {
     "iopub.execute_input": "2022-03-06T08:40:45.913272Z",
     "iopub.status.busy": "2022-03-06T08:40:45.912713Z",
     "iopub.status.idle": "2022-03-06T08:40:45.925940Z",
     "shell.execute_reply": "2022-03-06T08:40:45.925123Z",
     "shell.execute_reply.started": "2022-03-06T08:40:45.913236Z"
    },
    "trusted": true
   },
   "outputs": [],
   "source": [
    "# find total parameters and trainable parameters\n",
    "total_params = sum(p.numel() for p in model.parameters())\n",
    "print(f'{total_params:,} total parameters')\n",
    "trainable_params = sum(p.numel() for p in model.parameters() if p.requires_grad)\n",
    "print(f'{trainable_params:,} training parameters')"
   ]
  },
  {
   "cell_type": "markdown",
   "metadata": {},
   "source": [
    "## Steps for Training and Validation"
   ]
  },
  {
   "cell_type": "code",
   "execution_count": null,
   "metadata": {
    "execution": {
     "iopub.execute_input": "2022-03-06T08:40:46.622018Z",
     "iopub.status.busy": "2022-03-06T08:40:46.621516Z",
     "iopub.status.idle": "2022-03-06T08:40:46.634877Z",
     "shell.execute_reply": "2022-03-06T08:40:46.633913Z",
     "shell.execute_reply.started": "2022-03-06T08:40:46.621980Z"
    },
    "trusted": true
   },
   "outputs": [],
   "source": [
    "def train_model(model, dataloaders, criterion, optimizer, num_epochs=5, scheduler=scheduler):\n",
    "    # set starting time\n",
    "    start_time = time.time()\n",
    "    \n",
    "    val_acc_history = []\n",
    "    \n",
    "    best_model_wts = copy.deepcopy(model.state_dict())\n",
    "    best_acc = 0.0\n",
    "    \n",
    "    for epoch in range(num_epochs):\n",
    "        print(f'Epoch {epoch}/{num_epochs-1}')\n",
    "        print('-'*15)\n",
    "        \n",
    "        # each epoch have training and validation phase\n",
    "        for phase in ['train', 'val']:\n",
    "            # set mode for model\n",
    "            if phase == 'train':\n",
    "                model.train() # set model to training mode\n",
    "            else:\n",
    "                model.eval() # set model to evaluate mode\n",
    "                \n",
    "            running_loss = 0.0\n",
    "            running_corrects = 0\n",
    "            fin_out = []\n",
    "            \n",
    "            # iterate over data\n",
    "            for inputs, labels in dataloaders[phase]:\n",
    "                # move data to corresponding hardware\n",
    "                inputs = inputs.to(DEVICE)\n",
    "                labels = labels.to(DEVICE)\n",
    "                \n",
    "                # reset (or) zero the parameter gradients\n",
    "                optimizer.zero_grad()\n",
    "                \n",
    "                # training (or) validation process\n",
    "                with torch.set_grad_enabled(phase=='train'):\n",
    "                    outputs = model(inputs)\n",
    "                    loss = criterion(outputs, labels)\n",
    "                    \n",
    "                    _, preds = torch.max(outputs, 1)\n",
    "                    \n",
    "                    # back propagation in the network\n",
    "                    if phase == 'train':\n",
    "                        loss.backward()\n",
    "                        optimizer.step()\n",
    "                        scheduler.step()\n",
    "                        \n",
    "                running_loss += loss.item() * inputs.size(0)\n",
    "                running_corrects += torch.sum(preds == labels.data)\n",
    "                \n",
    "            # calculate loss and accuarcy for the epoch\n",
    "            epoch_loss = running_loss / len(dataloaders[phase].dataset)\n",
    "            epoch_acc = running_corrects.double() / len(dataloaders[phase].dataset)\n",
    "            \n",
    "            # print loss and acc for training & validation\n",
    "            print('{} Loss: {:.4f} Acc: {:.4f}'.format(phase, epoch_loss, epoch_acc))\n",
    "            \n",
    "            # update the best weights\n",
    "            if phase == 'val' and epoch_acc > best_acc:\n",
    "                best_acc = epoch_acc\n",
    "                best_model_wts = copy.deepcopy(model.state_dict())\n",
    "            if phase == 'val':\n",
    "                val_acc_history.append(epoch_acc)\n",
    "                \n",
    "        print()\n",
    "    end_time = time.time() - start_time\n",
    "    \n",
    "    print('Training completes in {:.0f}m {:.0f}s'.format(end_time // 60, end_time % 60))\n",
    "    print('Best Val Acc: {:.4f}'.format(best_acc))\n",
    "    \n",
    "    # load best model weights\n",
    "    model.load_state_dict(best_model_wts)\n",
    "    return model, val_acc_history"
   ]
  },
  {
   "cell_type": "code",
   "execution_count": null,
   "metadata": {
    "execution": {
     "iopub.execute_input": "2022-03-06T08:40:48.755589Z",
     "iopub.status.busy": "2022-03-06T08:40:48.754832Z",
     "iopub.status.idle": "2022-03-06T09:11:42.654722Z",
     "shell.execute_reply": "2022-03-06T09:11:42.653879Z",
     "shell.execute_reply.started": "2022-03-06T08:40:48.755537Z"
    },
    "trusted": true
   },
   "outputs": [],
   "source": [
    "# train the model\n",
    "model, accuracy = train_model(model=model, dataloaders=loaders, criterion=criterion, optimizer=optimizer, num_epochs=5, scheduler=scheduler)"
   ]
  },
  {
   "cell_type": "code",
   "execution_count": null,
   "metadata": {
    "execution": {
     "iopub.execute_input": "2022-01-01T14:12:27.165516Z",
     "iopub.status.busy": "2022-01-01T14:12:27.165154Z",
     "iopub.status.idle": "2022-01-01T14:12:28.163537Z",
     "shell.execute_reply": "2022-01-01T14:12:28.162402Z",
     "shell.execute_reply.started": "2022-01-01T14:12:27.16548Z"
    },
    "trusted": true
   },
   "outputs": [],
   "source": [
    "# save the model and model weights\n",
    "torch.save(model, '/kaggle/working/best_model.h5')\n",
    "torch.save(model.state_dict(), '/kaggle/working/best_model_weights')"
   ]
  },
  {
   "cell_type": "code",
   "execution_count": null,
   "metadata": {
    "execution": {
     "iopub.execute_input": "2022-01-01T15:50:56.349914Z",
     "iopub.status.busy": "2022-01-01T15:50:56.349245Z",
     "iopub.status.idle": "2022-01-01T15:50:56.360381Z",
     "shell.execute_reply": "2022-01-01T15:50:56.359292Z",
     "shell.execute_reply.started": "2022-01-01T15:50:56.349875Z"
    },
    "trusted": true
   },
   "outputs": [],
   "source": [
    "# freeze (or) unfreeze all the layers\n",
    "unfreeze = True # to freeze, set it as False\n",
    "for param in model.parameters():\n",
    "    param.requires_grad = unfreeze"
   ]
  },
  {
   "cell_type": "code",
   "execution_count": null,
   "metadata": {
    "execution": {
     "iopub.execute_input": "2022-01-01T14:53:29.042946Z",
     "iopub.status.busy": "2022-01-01T14:53:29.042309Z",
     "iopub.status.idle": "2022-01-01T14:53:29.053886Z",
     "shell.execute_reply": "2022-01-01T14:53:29.04993Z",
     "shell.execute_reply.started": "2022-01-01T14:53:29.042908Z"
    },
    "trusted": true
   },
   "outputs": [],
   "source": [
    "# # unfreeze seleected layers\n",
    "# layers = list(range(5,7))\n",
    "# i = 0\n",
    "# for layer in model.children():\n",
    "#     if i in layers:\n",
    "#         for param in layer.parameters():\n",
    "#             param.requires_grad = True\n",
    "#     i += 1"
   ]
  },
  {
   "cell_type": "code",
   "execution_count": null,
   "metadata": {
    "execution": {
     "iopub.execute_input": "2022-01-01T15:26:36.514313Z",
     "iopub.status.busy": "2022-01-01T15:26:36.514006Z",
     "iopub.status.idle": "2022-01-01T15:26:36.527036Z",
     "shell.execute_reply": "2022-01-01T15:26:36.525698Z",
     "shell.execute_reply.started": "2022-01-01T15:26:36.514279Z"
    },
    "trusted": true
   },
   "outputs": [],
   "source": [
    "# find total parameters and trainable parameters\n",
    "total_params = sum(p.numel() for p in model.parameters())\n",
    "print(f'{total_params:,} total parameters')\n",
    "trainable_params = sum(p.numel() for p in model.parameters() if p.requires_grad)\n",
    "print(f'{trainable_params:,} training parameters')"
   ]
  },
  {
   "cell_type": "code",
   "execution_count": null,
   "metadata": {
    "execution": {
     "iopub.execute_input": "2022-01-01T15:26:39.984432Z",
     "iopub.status.busy": "2022-01-01T15:26:39.983821Z",
     "iopub.status.idle": "2022-01-01T15:26:39.988823Z",
     "shell.execute_reply": "2022-01-01T15:26:39.987547Z",
     "shell.execute_reply.started": "2022-01-01T15:26:39.984394Z"
    },
    "trusted": true
   },
   "outputs": [],
   "source": [
    "# # gives the number of layers\n",
    "# for i,layer in enumerate(model.children()):\n",
    "#     print(i)"
   ]
  },
  {
   "cell_type": "markdown",
   "metadata": {},
   "source": [
    "## Testing the Model"
   ]
  },
  {
   "cell_type": "code",
   "execution_count": null,
   "metadata": {
    "execution": {
     "iopub.execute_input": "2022-03-06T09:13:11.079828Z",
     "iopub.status.busy": "2022-03-06T09:13:11.079307Z",
     "iopub.status.idle": "2022-03-06T09:13:11.388851Z",
     "shell.execute_reply": "2022-03-06T09:13:11.387896Z",
     "shell.execute_reply.started": "2022-03-06T09:13:11.079788Z"
    },
    "trusted": true
   },
   "outputs": [],
   "source": [
    "# empty the cache from cuda device\n",
    "torch.cuda.empty_cache()"
   ]
  },
  {
   "cell_type": "code",
   "execution_count": null,
   "metadata": {
    "execution": {
     "iopub.execute_input": "2022-03-06T09:13:12.264844Z",
     "iopub.status.busy": "2022-03-06T09:13:12.264444Z",
     "iopub.status.idle": "2022-03-06T09:13:12.270752Z",
     "shell.execute_reply": "2022-03-06T09:13:12.269760Z",
     "shell.execute_reply.started": "2022-03-06T09:13:12.264810Z"
    },
    "trusted": true
   },
   "outputs": [],
   "source": [
    "def predict(model, dataloader, device):\n",
    "    # set mode to eval\n",
    "    model.eval()\n",
    "    fin_out = []\n",
    "    \n",
    "    with torch.no_grad():\n",
    "        for images, targets in dataloader:\n",
    "            images = images.to(device)\n",
    "            targets = targets.to(device)\n",
    "            \n",
    "            outputs = model(images)\n",
    "            \n",
    "            fin_out.append(F.softmax(outputs, dim=1).detach().cpu().numpy())\n",
    "            \n",
    "    return np.concatenate(fin_out)"
   ]
  },
  {
   "cell_type": "code",
   "execution_count": null,
   "metadata": {
    "execution": {
     "iopub.execute_input": "2022-03-06T09:13:13.450752Z",
     "iopub.status.busy": "2022-03-06T09:13:13.450058Z",
     "iopub.status.idle": "2022-03-06T09:14:27.083674Z",
     "shell.execute_reply": "2022-03-06T09:14:27.082680Z",
     "shell.execute_reply.started": "2022-03-06T09:13:13.450714Z"
    },
    "trusted": true
   },
   "outputs": [],
   "source": [
    "# steps for model prediction\n",
    "device = torch.device('cuda') # if you don't have gpu, set it as cpu\n",
    "model.to(device)\n",
    "pred = predict(model, val_loader, device)\n",
    "pred = pred.argmax(axis=1)"
   ]
  },
  {
   "cell_type": "code",
   "execution_count": null,
   "metadata": {
    "execution": {
     "iopub.execute_input": "2022-03-06T09:14:27.086151Z",
     "iopub.status.busy": "2022-03-06T09:14:27.085877Z",
     "iopub.status.idle": "2022-03-06T09:14:27.092260Z",
     "shell.execute_reply": "2022-03-06T09:14:27.091634Z",
     "shell.execute_reply.started": "2022-03-06T09:14:27.086113Z"
    },
    "trusted": true
   },
   "outputs": [],
   "source": [
    "y_test.values[:5]"
   ]
  },
  {
   "cell_type": "code",
   "execution_count": null,
   "metadata": {
    "execution": {
     "iopub.execute_input": "2022-03-06T09:14:27.094048Z",
     "iopub.status.busy": "2022-03-06T09:14:27.093592Z",
     "iopub.status.idle": "2022-03-06T09:14:27.104661Z",
     "shell.execute_reply": "2022-03-06T09:14:27.103986Z",
     "shell.execute_reply.started": "2022-03-06T09:14:27.094011Z"
    },
    "trusted": true
   },
   "outputs": [],
   "source": [
    "pred[:5]"
   ]
  }
 ],
 "metadata": {
  "kernelspec": {
   "display_name": "Python 3",
   "language": "python",
   "name": "python3"
  },
  "language_info": {
   "codemirror_mode": {
    "name": "ipython",
    "version": 3
   },
   "file_extension": ".py",
   "mimetype": "text/x-python",
   "name": "python",
   "nbconvert_exporter": "python",
   "pygments_lexer": "ipython3",
   "version": "3.7.12"
  }
 },
 "nbformat": 4,
 "nbformat_minor": 4
}
