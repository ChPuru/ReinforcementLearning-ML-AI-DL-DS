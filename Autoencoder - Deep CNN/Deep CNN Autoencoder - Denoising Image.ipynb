{
  "cells": [
    {
      "cell_type": "markdown",
      "metadata": {
        "id": "S9KVxNq313dP"
      },
      "source": [
        "## Import Modules"
      ]
    },
    {
      "cell_type": "code",
      "execution_count": null,
      "metadata": {
        "id": "8dcyQ4LdzZ67"
      },
      "outputs": [],
      "source": [
        "import numpy as np\n",
        "import matplotlib.pyplot as plt\n",
        "from keras import Sequential\n",
        "from keras.layers import Dense, Conv2D, MaxPooling2D, UpSampling2D\n",
        "from keras.datasets import mnist"
      ]
    },
    {
      "cell_type": "markdown",
      "metadata": {
        "id": "Zrk-gzKi3Bao"
      },
      "source": [
        "## Load the Dataset"
      ]
    },
    {
      "cell_type": "code",
      "execution_count": null,
      "metadata": {
        "colab": {
          "base_uri": "https://localhost:8080/"
        },
        "id": "xzcqbkq22SzH",
        "outputId": "b89e5b5b-7002-4ff6-e18b-43238c1a2b8e"
      },
      "outputs": [],
      "source": [
        "(x_train, _), (x_test, _) = mnist.load_data()"
      ]
    },
    {
      "cell_type": "code",
      "execution_count": null,
      "metadata": {
        "id": "BIBjnr4m3Eel"
      },
      "outputs": [],
      "source": [
        "# normalize the image data\n",
        "x_train = x_train.astype('float32') / 255\n",
        "x_test = x_test.astype('float32') / 255"
      ]
    },
    {
      "cell_type": "code",
      "execution_count": null,
      "metadata": {
        "colab": {
          "base_uri": "https://localhost:8080/"
        },
        "id": "9ty4-fZH3VaV",
        "outputId": "7843f2bf-b399-4819-f109-adec1e2f1b7b"
      },
      "outputs": [],
      "source": [
        "# reshape in the input data for the model\n",
        "x_train = x_train.reshape(len(x_train), 28, 28, 1)\n",
        "x_test = x_test.reshape(len(x_test), 28, 28, 1)\n",
        "x_test.shape"
      ]
    },
    {
      "cell_type": "markdown",
      "metadata": {
        "id": "kJSXWAAfq2yH"
      },
      "source": [
        "## Add Noise to the Image"
      ]
    },
    {
      "cell_type": "code",
      "execution_count": null,
      "metadata": {
        "id": "6KoKR6MMq597"
      },
      "outputs": [],
      "source": [
        "# add noise\n",
        "noise_factor = 0.6\n",
        "x_train_noisy = x_train + noise_factor * np.random.normal(loc=0.0, scale=1.0, size=x_train.shape)\n",
        "x_test_noisy = x_test + noise_factor * np.random.normal(loc=0.0, scale=1.0, size=x_test.shape)"
      ]
    },
    {
      "cell_type": "code",
      "execution_count": null,
      "metadata": {
        "id": "itAs94xBq541"
      },
      "outputs": [],
      "source": [
        "# clip the values in the range of 0-1\n",
        "x_train_noisy = np.clip(x_train_noisy, 0., 1.)\n",
        "x_test_noisy = np.clip(x_test_noisy, 0., 1.)"
      ]
    },
    {
      "cell_type": "markdown",
      "metadata": {
        "id": "6UuBLkW25p3-"
      },
      "source": [
        "## Exploratory Data Analysis"
      ]
    },
    {
      "cell_type": "code",
      "execution_count": null,
      "metadata": {
        "colab": {
          "base_uri": "https://localhost:8080/",
          "height": 265
        },
        "id": "JOiKQEwy5sKJ",
        "outputId": "c1ac5560-708e-461e-963a-d1654460f171"
      },
      "outputs": [],
      "source": [
        "# randomly select input image\n",
        "index = np.random.randint(len(x_test))\n",
        "# plot the image\n",
        "plt.imshow(x_test[index].reshape(28,28))\n",
        "plt.gray()"
      ]
    },
    {
      "cell_type": "code",
      "execution_count": null,
      "metadata": {
        "colab": {
          "base_uri": "https://localhost:8080/",
          "height": 265
        },
        "id": "aVgOVNBI6Jd-",
        "outputId": "51b0ceb4-16e2-4900-9855-eb5a131cc3d8"
      },
      "outputs": [],
      "source": [
        "# randomly select input image\n",
        "index = np.random.randint(len(x_test))\n",
        "# plot the image\n",
        "plt.imshow(x_test_noisy[index].reshape(28,28))\n",
        "plt.gray()"
      ]
    },
    {
      "cell_type": "code",
      "execution_count": null,
      "metadata": {
        "colab": {
          "base_uri": "https://localhost:8080/",
          "height": 265
        },
        "id": "yZVfPgit5sIG",
        "outputId": "a5f353ba-8d25-4efa-8da9-d64488cec9bc"
      },
      "outputs": [],
      "source": [
        "# randomly select input image\n",
        "index = np.random.randint(len(x_test))\n",
        "# plot the image\n",
        "plt.imshow(x_test_noisy[index].reshape(28,28))\n",
        "plt.gray()"
      ]
    },
    {
      "cell_type": "code",
      "execution_count": null,
      "metadata": {
        "colab": {
          "base_uri": "https://localhost:8080/",
          "height": 265
        },
        "id": "Aa7xtFlW56v_",
        "outputId": "8a72ceba-9ac8-4824-9429-0be27551bb89"
      },
      "outputs": [],
      "source": [
        "plt.imshow(x_test[index].reshape(28,28))\n",
        "plt.gray()"
      ]
    },
    {
      "cell_type": "markdown",
      "metadata": {
        "id": "1KGiURME3-qH"
      },
      "source": [
        "## Model Creation"
      ]
    },
    {
      "cell_type": "code",
      "execution_count": null,
      "metadata": {
        "colab": {
          "base_uri": "https://localhost:8080/"
        },
        "id": "Y4XiApan38tv",
        "outputId": "9ca2f68d-b55c-4d84-a8b6-d68e2df11b7f"
      },
      "outputs": [],
      "source": [
        "model = Sequential([\n",
        "                    # encoder network\n",
        "                    Conv2D(32, 3, activation='relu', padding='same', input_shape=(28, 28, 1)),\n",
        "                    MaxPooling2D(2, padding='same'),\n",
        "                    Conv2D(16, 3, activation='relu', padding='same'),\n",
        "                    MaxPooling2D(2, padding='same'),\n",
        "                    # decoder network\n",
        "                    Conv2D(16, 3, activation='relu', padding='same'),\n",
        "                    UpSampling2D(2),\n",
        "                    Conv2D(32, 3, activation='relu', padding='same'),\n",
        "                    UpSampling2D(2),\n",
        "                    # output layer\n",
        "                    Conv2D(1, 3, activation='sigmoid', padding='same')\n",
        "])\n",
        "\n",
        "model.compile(optimizer='adam', loss='binary_crossentropy')\n",
        "model.summary()"
      ]
    },
    {
      "cell_type": "code",
      "execution_count": null,
      "metadata": {
        "colab": {
          "base_uri": "https://localhost:8080/"
        },
        "id": "VNlBUXuX5YCo",
        "outputId": "e322b4db-d9bd-4165-b1c7-756efa3bf3a2"
      },
      "outputs": [],
      "source": [
        "# train the model\n",
        "model.fit(x_train_noisy, x_train, epochs=20, batch_size=256, validation_data=(x_test_noisy, x_test))"
      ]
    },
    {
      "cell_type": "markdown",
      "metadata": {
        "id": "nz1_i-Qx696G"
      },
      "source": [
        "## Visualize the Results"
      ]
    },
    {
      "cell_type": "code",
      "execution_count": null,
      "metadata": {
        "id": "6-abSf-97r-e"
      },
      "outputs": [],
      "source": [
        "# predict the results from model (get compressed images)\n",
        "pred = model.predict(x_test_noisy)"
      ]
    },
    {
      "cell_type": "code",
      "execution_count": null,
      "metadata": {
        "colab": {
          "base_uri": "https://localhost:8080/",
          "height": 265
        },
        "id": "7UXekdR36ul-",
        "outputId": "1a208a39-5a95-4476-a6dc-8b0f11ee87f3"
      },
      "outputs": [],
      "source": [
        "# randomly select input image\n",
        "index = np.random.randint(len(x_test))\n",
        "# plot the image\n",
        "plt.imshow(x_test_noisy[index].reshape(28,28))\n",
        "plt.gray()"
      ]
    },
    {
      "cell_type": "code",
      "execution_count": null,
      "metadata": {
        "colab": {
          "base_uri": "https://localhost:8080/",
          "height": 265
        },
        "id": "h_N4yIde7iMH",
        "outputId": "4cb5b98f-33a1-4951-dc60-b903f936ff45"
      },
      "outputs": [],
      "source": [
        "# visualize compressed image\n",
        "plt.imshow(pred[index].reshape(28,28))\n",
        "plt.gray()"
      ]
    },
    {
      "cell_type": "code",
      "execution_count": null,
      "metadata": {
        "colab": {
          "base_uri": "https://localhost:8080/",
          "height": 252
        },
        "id": "I4MX_ELk77nf",
        "outputId": "7a8863ae-89c1-4648-feca-6878e0e94502"
      },
      "outputs": [],
      "source": [
        "index = np.random.randint(len(x_test))\n",
        "plt.figure(figsize=(10, 4))\n",
        "# display original image\n",
        "ax = plt.subplot(1, 2, 1)\n",
        "plt.imshow(x_test_noisy[index].reshape(28,28))\n",
        "plt.gray()\n",
        "ax.get_xaxis().set_visible(False)\n",
        "ax.get_yaxis().set_visible(False)\n",
        "# display compressed image\n",
        "ax = plt.subplot(1, 2, 2)\n",
        "plt.imshow(pred[index].reshape(28,28))\n",
        "plt.gray()\n",
        "ax.get_xaxis().set_visible(False)\n",
        "ax.get_yaxis().set_visible(False)\n",
        "plt.show()"
      ]
    },
    {
      "cell_type": "code",
      "execution_count": null,
      "metadata": {
        "colab": {
          "base_uri": "https://localhost:8080/",
          "height": 252
        },
        "id": "nQdnu-eD8pzv",
        "outputId": "c4976c06-a8bd-4972-aa5d-64e076f9e28e"
      },
      "outputs": [],
      "source": [
        "index = np.random.randint(len(x_test))\n",
        "plt.figure(figsize=(10, 4))\n",
        "# display original image\n",
        "ax = plt.subplot(1, 2, 1)\n",
        "plt.imshow(x_test_noisy[index].reshape(28,28))\n",
        "plt.gray()\n",
        "ax.get_xaxis().set_visible(False)\n",
        "ax.get_yaxis().set_visible(False)\n",
        "# display compressed image\n",
        "ax = plt.subplot(1, 2, 2)\n",
        "plt.imshow(pred[index].reshape(28,28))\n",
        "plt.gray()\n",
        "ax.get_xaxis().set_visible(False)\n",
        "ax.get_yaxis().set_visible(False)\n",
        "plt.show()"
      ]
    },
    {
      "cell_type": "code",
      "execution_count": null,
      "metadata": {
        "id": "Khx0VqiG6yrP"
      },
      "outputs": [],
      "source": []
    }
  ],
  "metadata": {
    "accelerator": "GPU",
    "colab": {
      "collapsed_sections": [],
      "name": "Deep CNN Autoencoder - Denoising Image.ipynb",
      "provenance": []
    },
    "kernelspec": {
      "display_name": "Python 3",
      "name": "python3"
    },
    "language_info": {
      "name": "python"
    }
  },
  "nbformat": 4,
  "nbformat_minor": 0
}
