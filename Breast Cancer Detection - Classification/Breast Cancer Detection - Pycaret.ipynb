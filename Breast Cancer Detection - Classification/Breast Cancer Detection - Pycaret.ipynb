{
 "cells": [
  {
   "cell_type": "markdown",
   "metadata": {},
   "source": [
    "## Install Pycaret Module"
   ]
  },
  {
   "cell_type": "code",
   "execution_count": null,
   "metadata": {
    "execution": {
     "iopub.execute_input": "2022-03-06T08:00:56.424204Z",
     "iopub.status.busy": "2022-03-06T08:00:56.423994Z",
     "iopub.status.idle": "2022-03-06T08:00:56.428358Z",
     "shell.execute_reply": "2022-03-06T08:00:56.427190Z",
     "shell.execute_reply.started": "2022-03-06T08:00:56.424178Z"
    },
    "trusted": true
   },
   "outputs": [],
   "source": [
    "# !pip install pycaret"
   ]
  },
  {
   "cell_type": "markdown",
   "metadata": {},
   "source": [
    "## Import Modules"
   ]
  },
  {
   "cell_type": "code",
   "execution_count": null,
   "metadata": {
    "execution": {
     "iopub.execute_input": "2022-03-06T07:53:01.121121Z",
     "iopub.status.busy": "2022-03-06T07:53:01.120383Z",
     "iopub.status.idle": "2022-03-06T07:53:03.826704Z",
     "shell.execute_reply": "2022-03-06T07:53:03.825824Z",
     "shell.execute_reply.started": "2022-03-06T07:53:01.121076Z"
    },
    "trusted": true
   },
   "outputs": [],
   "source": [
    "import pandas as pd\n",
    "import numpy as np\n",
    "import seaborn as sns\n",
    "import matplotlib.pyplot as plt\n",
    "import warnings\n",
    "from pycaret.classification import *\n",
    "%matplotlib inline\n",
    "warnings.filterwarnings('ignore')"
   ]
  },
  {
   "cell_type": "markdown",
   "metadata": {},
   "source": [
    "## Load the Dataset"
   ]
  },
  {
   "cell_type": "code",
   "execution_count": null,
   "metadata": {
    "execution": {
     "iopub.execute_input": "2022-03-06T07:53:06.466528Z",
     "iopub.status.busy": "2022-03-06T07:53:06.465882Z",
     "iopub.status.idle": "2022-03-06T07:53:06.521224Z",
     "shell.execute_reply": "2022-03-06T07:53:06.520712Z",
     "shell.execute_reply.started": "2022-03-06T07:53:06.466484Z"
    },
    "trusted": true
   },
   "outputs": [],
   "source": [
    "df = pd.read_csv('/kaggle/input/breast-cancer-wisconsin-data/data.csv')\n",
    "df.head()"
   ]
  },
  {
   "cell_type": "code",
   "execution_count": null,
   "metadata": {
    "execution": {
     "iopub.execute_input": "2022-03-06T07:53:06.634441Z",
     "iopub.status.busy": "2022-03-06T07:53:06.633893Z",
     "iopub.status.idle": "2022-03-06T07:53:06.644828Z",
     "shell.execute_reply": "2022-03-06T07:53:06.644139Z",
     "shell.execute_reply.started": "2022-03-06T07:53:06.634397Z"
    },
    "trusted": true
   },
   "outputs": [],
   "source": [
    "# delete unnecessary columns\n",
    "df = df.drop(columns=['id', 'Unnamed: 32'], axis=1)"
   ]
  },
  {
   "cell_type": "code",
   "execution_count": null,
   "metadata": {
    "execution": {
     "iopub.execute_input": "2022-03-06T07:53:06.802625Z",
     "iopub.status.busy": "2022-03-06T07:53:06.802278Z",
     "iopub.status.idle": "2022-03-06T07:53:06.894592Z",
     "shell.execute_reply": "2022-03-06T07:53:06.893715Z",
     "shell.execute_reply.started": "2022-03-06T07:53:06.802599Z"
    },
    "trusted": true
   },
   "outputs": [],
   "source": [
    "# statistical info\n",
    "df.describe()"
   ]
  },
  {
   "cell_type": "code",
   "execution_count": null,
   "metadata": {
    "execution": {
     "iopub.execute_input": "2022-03-06T07:53:06.978385Z",
     "iopub.status.busy": "2022-03-06T07:53:06.977873Z",
     "iopub.status.idle": "2022-03-06T07:53:06.994529Z",
     "shell.execute_reply": "2022-03-06T07:53:06.993862Z",
     "shell.execute_reply.started": "2022-03-06T07:53:06.978347Z"
    },
    "trusted": true
   },
   "outputs": [],
   "source": [
    "# datatype info\n",
    "df.info()"
   ]
  },
  {
   "cell_type": "markdown",
   "metadata": {},
   "source": [
    "## Exploratory Data Analysis"
   ]
  },
  {
   "cell_type": "code",
   "execution_count": null,
   "metadata": {
    "execution": {
     "iopub.execute_input": "2022-03-06T07:53:07.374181Z",
     "iopub.status.busy": "2022-03-06T07:53:07.373773Z",
     "iopub.status.idle": "2022-03-06T07:53:07.590297Z",
     "shell.execute_reply": "2022-03-06T07:53:07.589524Z",
     "shell.execute_reply.started": "2022-03-06T07:53:07.374149Z"
    },
    "trusted": true
   },
   "outputs": [],
   "source": [
    "sns.countplot(df['diagnosis'])"
   ]
  },
  {
   "cell_type": "code",
   "execution_count": null,
   "metadata": {
    "execution": {
     "iopub.execute_input": "2022-03-06T07:53:07.595090Z",
     "iopub.status.busy": "2022-03-06T07:53:07.594465Z",
     "iopub.status.idle": "2022-03-06T07:53:07.600024Z",
     "shell.execute_reply": "2022-03-06T07:53:07.599224Z",
     "shell.execute_reply.started": "2022-03-06T07:53:07.595054Z"
    },
    "trusted": true
   },
   "outputs": [],
   "source": [
    "df_temp = df.drop(columns=['diagnosis'], axis=1)"
   ]
  },
  {
   "cell_type": "code",
   "execution_count": null,
   "metadata": {
    "execution": {
     "iopub.execute_input": "2022-03-06T07:53:07.795006Z",
     "iopub.status.busy": "2022-03-06T07:53:07.794572Z",
     "iopub.status.idle": "2022-03-06T07:53:15.401021Z",
     "shell.execute_reply": "2022-03-06T07:53:15.400232Z",
     "shell.execute_reply.started": "2022-03-06T07:53:07.794973Z"
    },
    "trusted": true
   },
   "outputs": [],
   "source": [
    "# create dist plot\n",
    "fig, ax = plt.subplots(ncols=6, nrows=5, figsize=(20, 20))\n",
    "index = 0\n",
    "ax = ax.flatten()\n",
    "\n",
    "for col in df_temp.columns:\n",
    "    sns.distplot(df[col], ax=ax[index])\n",
    "    index+=1\n",
    "plt.tight_layout(pad=0.5, w_pad=0.7, h_pad=5.0)"
   ]
  },
  {
   "cell_type": "code",
   "execution_count": null,
   "metadata": {
    "execution": {
     "iopub.execute_input": "2022-03-06T07:53:15.403459Z",
     "iopub.status.busy": "2022-03-06T07:53:15.403021Z",
     "iopub.status.idle": "2022-03-06T07:53:19.702962Z",
     "shell.execute_reply": "2022-03-06T07:53:19.702237Z",
     "shell.execute_reply.started": "2022-03-06T07:53:15.403421Z"
    },
    "trusted": true
   },
   "outputs": [],
   "source": [
    "# create box plot\n",
    "fig, ax = plt.subplots(ncols=6, nrows=5, figsize=(20, 20))\n",
    "index = 0\n",
    "ax = ax.flatten()\n",
    "\n",
    "for col in df_temp.columns:\n",
    "    sns.boxplot(y=col, data=df, ax=ax[index])\n",
    "    index+=1\n",
    "plt.tight_layout(pad=0.5, w_pad=0.7, h_pad=5.0)"
   ]
  },
  {
   "cell_type": "markdown",
   "metadata": {},
   "source": [
    "## Create and Train the Model"
   ]
  },
  {
   "cell_type": "code",
   "execution_count": null,
   "metadata": {
    "execution": {
     "iopub.execute_input": "2022-03-06T07:53:19.704897Z",
     "iopub.status.busy": "2022-03-06T07:53:19.704481Z",
     "iopub.status.idle": "2022-03-06T07:53:26.893771Z",
     "shell.execute_reply": "2022-03-06T07:53:26.893160Z",
     "shell.execute_reply.started": "2022-03-06T07:53:19.704859Z"
    },
    "trusted": true
   },
   "outputs": [],
   "source": [
    "# setup the data\n",
    "clf = setup(df, target='diagnosis')"
   ]
  },
  {
   "cell_type": "code",
   "execution_count": null,
   "metadata": {
    "execution": {
     "iopub.execute_input": "2022-03-06T07:53:26.896210Z",
     "iopub.status.busy": "2022-03-06T07:53:26.895980Z",
     "iopub.status.idle": "2022-03-06T07:56:00.262959Z",
     "shell.execute_reply": "2022-03-06T07:56:00.262220Z",
     "shell.execute_reply.started": "2022-03-06T07:53:26.896180Z"
    },
    "trusted": true
   },
   "outputs": [],
   "source": [
    "# train and test the models\n",
    "compare_models()"
   ]
  },
  {
   "cell_type": "code",
   "execution_count": null,
   "metadata": {
    "execution": {
     "iopub.execute_input": "2022-03-06T07:56:00.264159Z",
     "iopub.status.busy": "2022-03-06T07:56:00.263956Z",
     "iopub.status.idle": "2022-03-06T07:57:09.352284Z",
     "shell.execute_reply": "2022-03-06T07:57:09.351484Z",
     "shell.execute_reply.started": "2022-03-06T07:56:00.264133Z"
    },
    "trusted": true
   },
   "outputs": [],
   "source": [
    "# select the best model\n",
    "model = create_model('catboost')"
   ]
  },
  {
   "cell_type": "code",
   "execution_count": null,
   "metadata": {
    "execution": {
     "iopub.execute_input": "2022-03-06T07:57:09.353599Z",
     "iopub.status.busy": "2022-03-06T07:57:09.353351Z",
     "iopub.status.idle": "2022-03-06T08:00:55.694661Z",
     "shell.execute_reply": "2022-03-06T08:00:55.693824Z",
     "shell.execute_reply.started": "2022-03-06T07:57:09.353570Z"
    },
    "trusted": true
   },
   "outputs": [],
   "source": [
    "# hyperparameter tuning\n",
    "best_model = tune_model(model)"
   ]
  },
  {
   "cell_type": "code",
   "execution_count": null,
   "metadata": {
    "execution": {
     "iopub.execute_input": "2022-03-06T08:00:55.695943Z",
     "iopub.status.busy": "2022-03-06T08:00:55.695738Z",
     "iopub.status.idle": "2022-03-06T08:00:55.950694Z",
     "shell.execute_reply": "2022-03-06T08:00:55.950153Z",
     "shell.execute_reply.started": "2022-03-06T08:00:55.695918Z"
    },
    "trusted": true
   },
   "outputs": [],
   "source": [
    "evaluate_model(best_model)"
   ]
  },
  {
   "cell_type": "code",
   "execution_count": null,
   "metadata": {
    "execution": {
     "iopub.execute_input": "2022-03-06T08:00:55.952670Z",
     "iopub.status.busy": "2022-03-06T08:00:55.952190Z",
     "iopub.status.idle": "2022-03-06T08:00:56.421736Z",
     "shell.execute_reply": "2022-03-06T08:00:56.420906Z",
     "shell.execute_reply.started": "2022-03-06T08:00:55.952631Z"
    },
    "trusted": true
   },
   "outputs": [],
   "source": [
    "# plot the results\n",
    "plot_model(estimator=best_model, plot='confusion_matrix')"
   ]
  },
  {
   "cell_type": "code",
   "execution_count": null,
   "metadata": {},
   "outputs": [],
   "source": []
  }
 ],
 "metadata": {
  "kernelspec": {
   "display_name": "Python 3",
   "language": "python",
   "name": "python3"
  },
  "language_info": {
   "codemirror_mode": {
    "name": "ipython",
    "version": 3
   },
   "file_extension": ".py",
   "mimetype": "text/x-python",
   "name": "python",
   "nbconvert_exporter": "python",
   "pygments_lexer": "ipython3",
   "version": "3.7.10"
  }
 },
 "nbformat": 4,
 "nbformat_minor": 4
}
