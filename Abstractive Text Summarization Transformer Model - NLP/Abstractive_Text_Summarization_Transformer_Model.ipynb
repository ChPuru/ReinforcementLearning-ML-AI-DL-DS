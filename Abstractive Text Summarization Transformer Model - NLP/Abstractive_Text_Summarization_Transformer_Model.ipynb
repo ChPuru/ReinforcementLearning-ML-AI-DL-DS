{
  "cells": [
    {
      "cell_type": "markdown",
      "metadata": {
        "id": "MLgO51ZMmTGT"
      },
      "source": [
        "## Install Modules"
      ]
    },
    {
      "cell_type": "code",
      "execution_count": null,
      "metadata": {
        "id": "vZ3oovMUmStT"
      },
      "outputs": [],
      "source": [
        "#!pip install transformers==2.8.0\n",
        "#!pip install torch==1.4.0"
      ]
    },
    {
      "cell_type": "markdown",
      "metadata": {
        "id": "apYJ3Uu6me0L"
      },
      "source": [
        "## Import Modules"
      ]
    },
    {
      "cell_type": "code",
      "execution_count": null,
      "metadata": {
        "id": "NM4WowCakwqc"
      },
      "outputs": [],
      "source": [
        "import torch\n",
        "from transformers import T5Tokenizer, T5ForConditionalGeneration, T5Config"
      ]
    },
    {
      "cell_type": "code",
      "execution_count": null,
      "metadata": {
        "id": "sRvZhj4Nm1wb"
      },
      "outputs": [],
      "source": [
        "# initialize the pretrained model\n",
        "model = T5ForConditionalGeneration.from_pretrained('t5-small')\n",
        "tokenizer = T5Tokenizer.from_pretrained('t5-small')\n",
        "device = torch.device('cpu')"
      ]
    },
    {
      "cell_type": "code",
      "execution_count": null,
      "metadata": {
        "id": "TBJtnYxjnMp7"
      },
      "outputs": [],
      "source": [
        "# input text\n",
        "text = \"\"\"\n",
        "\n",
        "\"\"\""
      ]
    },
    {
      "cell_type": "code",
      "execution_count": null,
      "metadata": {
        "id": "QUIY1EQVop_b"
      },
      "outputs": [],
      "source": [
        "## preprocess the input text\n",
        "preprocessed_text = text.strip().replace('\\n','')\n",
        "t5_input_text = 'summarize: ' + preprocessed_text"
      ]
    },
    {
      "cell_type": "code",
      "execution_count": null,
      "metadata": {
        "colab": {
          "base_uri": "https://localhost:8080/",
          "height": 140
        },
        "id": "cgCbmSLbpXgr",
        "outputId": "efdf5c9a-c973-4858-880f-e9e3c797a9b6"
      },
      "outputs": [],
      "source": [
        "t5_input_text"
      ]
    },
    {
      "cell_type": "code",
      "execution_count": null,
      "metadata": {
        "colab": {
          "base_uri": "https://localhost:8080/"
        },
        "id": "ogRtl7PZpC3m",
        "outputId": "84e66c5b-f5a9-49b0-8067-f174656977ab"
      },
      "outputs": [],
      "source": [
        "len(t5_input_text.split())"
      ]
    },
    {
      "cell_type": "code",
      "execution_count": null,
      "metadata": {
        "id": "xfGLHnLUpXKK"
      },
      "outputs": [],
      "source": [
        "tokenized_text = tokenizer.encode(t5_input_text, return_tensors='pt', max_length=512).to(device)"
      ]
    },
    {
      "cell_type": "markdown",
      "metadata": {
        "id": "-yx_Q72vqGCb"
      },
      "source": [
        "## Summarize"
      ]
    },
    {
      "cell_type": "code",
      "execution_count": null,
      "metadata": {
        "id": "FQEq-Y0_p5gr"
      },
      "outputs": [],
      "source": [
        "summary_ids = model.generate(tokenized_text, min_length=30, max_length=120)\n",
        "summary = tokenizer.decode(summary_ids[0], skip_special_tokens=True)"
      ]
    },
    {
      "cell_type": "code",
      "execution_count": null,
      "metadata": {
        "colab": {
          "base_uri": "https://localhost:8080/",
          "height": 70
        },
        "id": "nqEQhRI4qcfb",
        "outputId": "f66346db-5559-459f-d220-16f8fefab917"
      },
      "outputs": [],
      "source": [
        "summary"
      ]
    },
    {
      "cell_type": "code",
      "execution_count": null,
      "metadata": {
        "id": "ou8vEjdeq-dS"
      },
      "outputs": [],
      "source": []
    }
  ],
  "metadata": {
    "accelerator": "GPU",
    "colab": {
      "collapsed_sections": [],
      "name": "Abstractive Text Summarization - Transformer Model.ipynb",
      "provenance": []
    },
    "kernelspec": {
      "display_name": "Python 3",
      "name": "python3"
    },
    "language_info": {
      "codemirror_mode": {
        "name": "ipython",
        "version": 3
      },
      "file_extension": ".py",
      "mimetype": "text/x-python",
      "name": "python",
      "nbconvert_exporter": "python",
      "pygments_lexer": "ipython3",
      "version": "3.9.13"
    }
  },
  "nbformat": 4,
  "nbformat_minor": 0
}
