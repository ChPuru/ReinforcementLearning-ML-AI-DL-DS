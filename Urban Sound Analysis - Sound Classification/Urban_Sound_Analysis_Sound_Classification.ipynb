{
 "cells": [
  {
   "cell_type": "markdown",
   "metadata": {
    "id": "1CogCZh79j-y"
   },
   "source": [
    "## Dataset Information\n",
    "\n",
    "This dataset contains 8732 labeled sound excerpts (<=4s) of urban sounds from 10 classes: \n",
    "<li>air_conditioner\n",
    "<li>car_horn\n",
    "<li>children_playing\n",
    "<li>dog_bark\n",
    "<li>drilling\n",
    "<li>engine_idling\n",
    "<li>gun_shot\n",
    "<li>jackhammer\n",
    "<li>siren\n",
    "<li>street_music"
   ]
  },
  {
   "cell_type": "markdown",
   "metadata": {
    "id": "8BZMD0pmKKCF"
   },
   "source": [
    "## Mounting Drive"
   ]
  },
  {
   "cell_type": "code",
   "execution_count": null,
   "metadata": {
    "colab": {
     "base_uri": "https://localhost:8080/"
    },
    "id": "m5y8Y_whYNJQ",
    "outputId": "2cc450da-f824-401c-a580-474f85de448f"
   },
   "outputs": [],
   "source": [
    "from google.colab import drive\n",
    "drive.mount('/content/drive')"
   ]
  },
  {
   "cell_type": "code",
   "execution_count": null,
   "metadata": {
    "colab": {
     "base_uri": "https://localhost:8080/"
    },
    "id": "51vGbIFoKJfU",
    "outputId": "3b010001-7d98-46b5-9de3-15186e24d24b"
   },
   "outputs": [],
   "source": [
    "!pwd"
   ]
  },
  {
   "cell_type": "markdown",
   "metadata": {
    "id": "bpqUtXjdKL7t"
   },
   "source": [
    "## Unzip data"
   ]
  },
  {
   "cell_type": "code",
   "execution_count": null,
   "metadata": {
    "colab": {
     "base_uri": "https://localhost:8080/"
    },
    "id": "Chq7mWWxKN0D",
    "outputId": "2e4e2d0c-0033-4a7d-8b66-2a687cfde2ef"
   },
   "outputs": [],
   "source": [
    "!unzip 'drive/MyDrive/Colab Notebooks/train.zip'"
   ]
  },
  {
   "cell_type": "markdown",
   "metadata": {
    "id": "RVFHcGUb9j-4"
   },
   "source": [
    "## Import modules"
   ]
  },
  {
   "cell_type": "code",
   "execution_count": null,
   "metadata": {
    "colab": {
     "base_uri": "https://localhost:8080/"
    },
    "id": "CgQs1hUc9j-5",
    "outputId": "bac835b8-ee28-46cd-c202-45dbb334b020"
   },
   "outputs": [],
   "source": [
    "import pandas as pd\n",
    "import numpy as np\n",
    "import librosa\n",
    "import librosa.display\n",
    "import glob\n",
    "import IPython.display as ipd\n",
    "import random\n",
    "%pylab inline\n",
    "\n",
    "import warnings\n",
    "warnings.filterwarnings('ignore')"
   ]
  },
  {
   "cell_type": "markdown",
   "metadata": {
    "id": "jTkRC6Su9j-5"
   },
   "source": [
    "## Loading the dataset"
   ]
  },
  {
   "cell_type": "code",
   "execution_count": null,
   "metadata": {
    "colab": {
     "base_uri": "https://localhost:8080/",
     "height": 198
    },
    "id": "O9XpoT8a9j-6",
    "outputId": "13bec56f-57f7-491a-af7d-0ba528ebd477"
   },
   "outputs": [],
   "source": [
    "df = pd.read_csv('Urban Sound Dataset.csv')\n",
    "df.head()"
   ]
  },
  {
   "cell_type": "code",
   "execution_count": null,
   "metadata": {
    "colab": {
     "base_uri": "https://localhost:8080/",
     "height": 75
    },
    "id": "vwHRI-849j-6",
    "outputId": "49c26022-abf1-452b-fdd0-395e4c4ab5ec"
   },
   "outputs": [],
   "source": [
    "ipd.Audio('Train/1.wav')"
   ]
  },
  {
   "cell_type": "markdown",
   "metadata": {
    "id": "L1kcxUh29j-7"
   },
   "source": [
    "## Exploratory Data Analysis"
   ]
  },
  {
   "cell_type": "code",
   "execution_count": null,
   "metadata": {
    "id": "y0cS3Qun9j-7"
   },
   "outputs": [],
   "source": [
    "data, sampling_rate = librosa.load('Train/1.wav')"
   ]
  },
  {
   "cell_type": "code",
   "execution_count": null,
   "metadata": {
    "colab": {
     "base_uri": "https://localhost:8080/"
    },
    "id": "hrJEUgMV9j-8",
    "outputId": "362a6220-037b-4ea2-d212-ed1001bf878c"
   },
   "outputs": [],
   "source": [
    "data"
   ]
  },
  {
   "cell_type": "code",
   "execution_count": null,
   "metadata": {
    "colab": {
     "base_uri": "https://localhost:8080/"
    },
    "id": "MtTEOQ8X9j-8",
    "outputId": "05c991ee-46c0-4296-e844-f2dfe9913910"
   },
   "outputs": [],
   "source": [
    "sampling_rate"
   ]
  },
  {
   "cell_type": "code",
   "execution_count": null,
   "metadata": {
    "colab": {
     "base_uri": "https://localhost:8080/",
     "height": 296
    },
    "id": "tgkLibRo9j-8",
    "outputId": "99f50426-859c-4a9a-9a87-882cf7348527"
   },
   "outputs": [],
   "source": [
    "plt.figure(figsize=(12,4))\n",
    "librosa.display.waveplot(data, sr=sampling_rate)"
   ]
  },
  {
   "cell_type": "code",
   "execution_count": null,
   "metadata": {
    "colab": {
     "base_uri": "https://localhost:8080/",
     "height": 313
    },
    "id": "ySlpcOQRa-Sq",
    "outputId": "d724240d-438f-42ee-8b23-2feb645146c6"
   },
   "outputs": [],
   "source": [
    "index = random.choice(df.index)\n",
    "\n",
    "print('Class:', df['Class'][index])\n",
    "data, sampling_rate = librosa.load('Train/'+str(df['ID'][index]) + '.wav')\n",
    "\n",
    "plt.figure(figsize=(12,4))\n",
    "librosa.display.waveplot(data, sr=sampling_rate)"
   ]
  },
  {
   "cell_type": "code",
   "execution_count": null,
   "metadata": {
    "colab": {
     "base_uri": "https://localhost:8080/",
     "height": 313
    },
    "id": "iA4uzx3Ca-Mh",
    "outputId": "730d5f84-1dbe-4e44-90d5-9c46eeee32d8"
   },
   "outputs": [],
   "source": [
    "index = random.choice(df.index)\n",
    "\n",
    "print('Class:', df['Class'][index])\n",
    "data, sampling_rate = librosa.load('Train/'+str(df['ID'][index]) + '.wav')\n",
    "\n",
    "plt.figure(figsize=(12,4))\n",
    "librosa.display.waveplot(data, sr=sampling_rate)"
   ]
  },
  {
   "cell_type": "code",
   "execution_count": null,
   "metadata": {
    "colab": {
     "base_uri": "https://localhost:8080/",
     "height": 313
    },
    "id": "OVLGSn8xa-Kn",
    "outputId": "e4f6ec4a-f633-49cc-eca5-0b2274db2d9d"
   },
   "outputs": [],
   "source": [
    "index = random.choice(df.index)\n",
    "\n",
    "print('Class:', df['Class'][index])\n",
    "data, sampling_rate = librosa.load('Train/'+str(df['ID'][index]) + '.wav')\n",
    "\n",
    "plt.figure(figsize=(12,4))\n",
    "librosa.display.waveplot(data, sr=sampling_rate)"
   ]
  },
  {
   "cell_type": "code",
   "execution_count": null,
   "metadata": {
    "colab": {
     "base_uri": "https://localhost:8080/",
     "height": 464
    },
    "id": "jELhVlXGa-I_",
    "outputId": "c2aec874-077a-4ee4-ffee-5acfff4b201d"
   },
   "outputs": [],
   "source": [
    "import seaborn as sns\n",
    "plt.figure(figsize=(12,7))\n",
    "sns.countplot(df['Class'])"
   ]
  },
  {
   "cell_type": "markdown",
   "metadata": {
    "id": "4iR9OGM69j-8"
   },
   "source": [
    "## Input Split"
   ]
  },
  {
   "cell_type": "code",
   "execution_count": null,
   "metadata": {
    "id": "J9bxvsET9j-8"
   },
   "outputs": [],
   "source": [
    "import os\n",
    "\n",
    "def parser(row):\n",
    "  # path of the file\n",
    "  file_name = os.path.join('Train', str(row.ID) + '.wav')\n",
    "  # load the audio file\n",
    "  x, sample_rate = librosa.load(file_name, res_type='kaiser_fast')\n",
    "  # extract features from the data\n",
    "  mfccs = np.mean(librosa.feature.mfcc(y=x, sr=sample_rate, n_mfcc=40).T, axis=0)\n",
    "\n",
    "  feature = mfccs\n",
    "  label = row.Class\n",
    "\n",
    "  return [feature, label]"
   ]
  },
  {
   "cell_type": "code",
   "execution_count": null,
   "metadata": {
    "id": "Pwm3bJO5eUxt"
   },
   "outputs": [],
   "source": [
    "data = df.apply(parser, axis=1)\n",
    "data.columns = ['feature','label']"
   ]
  },
  {
   "cell_type": "code",
   "execution_count": null,
   "metadata": {
    "colab": {
     "base_uri": "https://localhost:8080/"
    },
    "id": "73Z32JIEeUtM",
    "outputId": "332c662a-f1b2-4a4c-c31c-2fd438aa0883"
   },
   "outputs": [],
   "source": [
    "data[0]"
   ]
  },
  {
   "cell_type": "code",
   "execution_count": null,
   "metadata": {
    "id": "Idg9sevZeUpG"
   },
   "outputs": [],
   "source": [
    "# input split\n",
    "X = np.array(list(zip(*data))[0])\n",
    "y = np.array(list(zip(*data))[1])"
   ]
  },
  {
   "cell_type": "markdown",
   "metadata": {
    "id": "DJvYRc1GgzYr"
   },
   "source": [
    "## Label encoder"
   ]
  },
  {
   "cell_type": "code",
   "execution_count": null,
   "metadata": {
    "id": "3l1k_CqxeUl3"
   },
   "outputs": [],
   "source": [
    "from sklearn.preprocessing import LabelEncoder\n",
    "from keras.utils import np_utils\n",
    "\n",
    "le = LabelEncoder()\n",
    "y = np_utils.to_categorical(le.fit_transform(y))"
   ]
  },
  {
   "cell_type": "code",
   "execution_count": null,
   "metadata": {
    "colab": {
     "base_uri": "https://localhost:8080/"
    },
    "id": "mUlLf_cPeUjb",
    "outputId": "6e92186b-9473-441c-d32f-535ad61eafa0"
   },
   "outputs": [],
   "source": [
    "y.shape"
   ]
  },
  {
   "cell_type": "code",
   "execution_count": null,
   "metadata": {
    "colab": {
     "base_uri": "https://localhost:8080/"
    },
    "id": "aT_IKSCck2oJ",
    "outputId": "da6e8db9-9966-4b9f-a39d-d67f0bb2f454"
   },
   "outputs": [],
   "source": [
    "y[0]"
   ]
  },
  {
   "cell_type": "markdown",
   "metadata": {
    "id": "Lffvezu99j-8"
   },
   "source": [
    "## Model Training"
   ]
  },
  {
   "cell_type": "code",
   "execution_count": null,
   "metadata": {
    "id": "dNIVzsO69j-9"
   },
   "outputs": [],
   "source": [
    "from keras.models import Sequential\n",
    "from keras.layers import Dense, Dropout, Activation, Flatten\n",
    "\n",
    "num_classes = 10\n",
    "\n",
    "# model creation\n",
    "model = Sequential()\n",
    "\n",
    "model.add(Dense(256, input_shape=(40,)))\n",
    "model.add(Activation('relu'))\n",
    "model.add(Dropout(0.3))\n",
    "\n",
    "model.add(Dense(512))\n",
    "model.add(Activation('relu'))\n",
    "model.add(Dropout(0.3))\n",
    "\n",
    "model.add(Dense(256))\n",
    "model.add(Activation('relu'))\n",
    "model.add(Dropout(0.3))\n",
    "\n",
    "model.add(Dense(num_classes))\n",
    "model.add(Activation('softmax'))\n",
    "\n",
    "model.compile(loss='categorical_crossentropy', metrics='accuracy', optimizer='adam')"
   ]
  },
  {
   "cell_type": "code",
   "execution_count": null,
   "metadata": {
    "colab": {
     "base_uri": "https://localhost:8080/"
    },
    "id": "9ral3cG-9j-9",
    "outputId": "90251570-72d2-4b4a-f375-cfe703ae5ad6"
   },
   "outputs": [],
   "source": [
    "# train the model\n",
    "model.fit(X, y, batch_size=32, epochs=100, validation_split=0.25)"
   ]
  },
  {
   "cell_type": "code",
   "execution_count": null,
   "metadata": {
    "id": "uBtOgcsPhzAt"
   },
   "outputs": [],
   "source": []
  }
 ],
 "metadata": {
  "accelerator": "GPU",
  "colab": {
   "collapsed_sections": [],
   "name": "Urban Sound Analysis - Sound Classification.ipynb",
   "provenance": []
  },
  "kernelspec": {
   "display_name": "Python 3",
   "language": "python",
   "name": "python3"
  },
  "language_info": {
   "codemirror_mode": {
    "name": "ipython",
    "version": 3
   },
   "file_extension": ".py",
   "mimetype": "text/x-python",
   "name": "python",
   "nbconvert_exporter": "python",
   "pygments_lexer": "ipython3",
   "version": "3.8.3"
  }
 },
 "nbformat": 4,
 "nbformat_minor": 1
}
