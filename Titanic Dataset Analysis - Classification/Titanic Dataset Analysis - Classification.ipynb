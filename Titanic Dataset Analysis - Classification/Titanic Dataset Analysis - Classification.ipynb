{
 "cells": [
  {
   "cell_type": "code",
   "execution_count": null,
   "id": "f7bb7abe",
   "metadata": {
    "_cell_guid": "b1076dfc-b9ad-4769-8c92-a6c4dae69d19",
    "_uuid": "8f2839f25d086af736a60e9eeb907d3b93b6e0e5",
    "execution": {
     "iopub.execute_input": "2021-10-26T14:39:51.720863Z",
     "iopub.status.busy": "2021-10-26T14:39:51.719743Z",
     "iopub.status.idle": "2021-10-26T14:39:51.732529Z",
     "shell.execute_reply": "2021-10-26T14:39:51.731846Z",
     "shell.execute_reply.started": "2021-10-26T13:18:09.103774Z"
    },
    "papermill": {
     "duration": 0.054999,
     "end_time": "2021-10-26T14:39:51.732722",
     "exception": false,
     "start_time": "2021-10-26T14:39:51.677723",
     "status": "completed"
    },
    "tags": []
   },
   "outputs": [],
   "source": [
    "import numpy as np # linear algebra\n",
    "import pandas as pd # data processing, CSV file I/O (e.g. pd.read_csv)\n",
    "\n",
    "\n",
    "import os\n",
    "for dirname, _, filenames in os.walk('/kaggle/input'):\n",
    "    for filename in filenames:\n",
    "        print(os.path.join(dirname, filename))\n"
   ]
  },
  {
   "cell_type": "markdown",
   "id": "934aa4df",
   "metadata": {
    "papermill": {
     "duration": 0.0372,
     "end_time": "2021-10-26T14:39:51.809118",
     "exception": false,
     "start_time": "2021-10-26T14:39:51.771918",
     "status": "completed"
    },
    "tags": []
   },
   "source": [
    "## Import Modules"
   ]
  },
  {
   "cell_type": "code",
   "execution_count": null,
   "id": "de34f80e",
   "metadata": {
    "execution": {
     "iopub.execute_input": "2021-10-26T14:39:51.888410Z",
     "iopub.status.busy": "2021-10-26T14:39:51.887376Z",
     "iopub.status.idle": "2021-10-26T14:39:52.718602Z",
     "shell.execute_reply": "2021-10-26T14:39:52.719300Z",
     "shell.execute_reply.started": "2021-10-26T13:19:51.044248Z"
    },
    "papermill": {
     "duration": 0.872959,
     "end_time": "2021-10-26T14:39:52.719543",
     "exception": false,
     "start_time": "2021-10-26T14:39:51.846584",
     "status": "completed"
    },
    "tags": []
   },
   "outputs": [],
   "source": [
    "import pandas as pd\n",
    "import numpy as np\n",
    "import seaborn as sns\n",
    "import matplotlib.pyplot as plt\n",
    "import warnings\n",
    "warnings.filterwarnings('ignore')\n",
    "%matplotlib inline"
   ]
  },
  {
   "cell_type": "markdown",
   "id": "94f44317",
   "metadata": {
    "papermill": {
     "duration": 0.037974,
     "end_time": "2021-10-26T14:39:52.801957",
     "exception": false,
     "start_time": "2021-10-26T14:39:52.763983",
     "status": "completed"
    },
    "tags": []
   },
   "source": [
    "## Loading the dataset"
   ]
  },
  {
   "cell_type": "code",
   "execution_count": null,
   "id": "03ad8c9f",
   "metadata": {
    "execution": {
     "iopub.execute_input": "2021-10-26T14:39:52.882450Z",
     "iopub.status.busy": "2021-10-26T14:39:52.881503Z",
     "iopub.status.idle": "2021-10-26T14:39:52.929823Z",
     "shell.execute_reply": "2021-10-26T14:39:52.930296Z",
     "shell.execute_reply.started": "2021-10-26T13:21:10.553394Z"
    },
    "papermill": {
     "duration": 0.090114,
     "end_time": "2021-10-26T14:39:52.930465",
     "exception": false,
     "start_time": "2021-10-26T14:39:52.840351",
     "status": "completed"
    },
    "tags": []
   },
   "outputs": [],
   "source": [
    "train = pd.read_csv('/kaggle/input/titanic/train.csv')\n",
    "test = pd.read_csv('/kaggle/input/titanic/test.csv')\n",
    "train.head()"
   ]
  },
  {
   "cell_type": "code",
   "execution_count": null,
   "id": "1df61dfd",
   "metadata": {
    "execution": {
     "iopub.execute_input": "2021-10-26T14:39:53.084632Z",
     "iopub.status.busy": "2021-10-26T14:39:53.083988Z",
     "iopub.status.idle": "2021-10-26T14:39:53.109876Z",
     "shell.execute_reply": "2021-10-26T14:39:53.109377Z",
     "shell.execute_reply.started": "2021-10-26T13:21:55.779366Z"
    },
    "papermill": {
     "duration": 0.080848,
     "end_time": "2021-10-26T14:39:53.110020",
     "exception": false,
     "start_time": "2021-10-26T14:39:53.029172",
     "status": "completed"
    },
    "tags": []
   },
   "outputs": [],
   "source": [
    "## statistical info\n",
    "train.describe()"
   ]
  },
  {
   "cell_type": "code",
   "execution_count": null,
   "id": "3faf3530",
   "metadata": {
    "execution": {
     "iopub.execute_input": "2021-10-26T14:39:53.202353Z",
     "iopub.status.busy": "2021-10-26T14:39:53.201388Z",
     "iopub.status.idle": "2021-10-26T14:39:53.215660Z",
     "shell.execute_reply": "2021-10-26T14:39:53.216145Z",
     "shell.execute_reply.started": "2021-10-26T13:23:20.513055Z"
    },
    "papermill": {
     "duration": 0.056979,
     "end_time": "2021-10-26T14:39:53.216348",
     "exception": false,
     "start_time": "2021-10-26T14:39:53.159369",
     "status": "completed"
    },
    "tags": []
   },
   "outputs": [],
   "source": [
    "## datatype info\n",
    "train.info()"
   ]
  },
  {
   "cell_type": "markdown",
   "id": "ca24760e",
   "metadata": {
    "papermill": {
     "duration": 0.038578,
     "end_time": "2021-10-26T14:39:53.296624",
     "exception": false,
     "start_time": "2021-10-26T14:39:53.258046",
     "status": "completed"
    },
    "tags": []
   },
   "source": [
    "## Exploratory Data Analysis"
   ]
  },
  {
   "cell_type": "code",
   "execution_count": null,
   "id": "6cdb115f",
   "metadata": {
    "execution": {
     "iopub.execute_input": "2021-10-26T14:39:53.378047Z",
     "iopub.status.busy": "2021-10-26T14:39:53.377139Z",
     "iopub.status.idle": "2021-10-26T14:39:53.575683Z",
     "shell.execute_reply": "2021-10-26T14:39:53.575023Z",
     "shell.execute_reply.started": "2021-10-26T13:25:41.086474Z"
    },
    "papermill": {
     "duration": 0.240071,
     "end_time": "2021-10-26T14:39:53.575827",
     "exception": false,
     "start_time": "2021-10-26T14:39:53.335756",
     "status": "completed"
    },
    "tags": []
   },
   "outputs": [],
   "source": [
    "## categorical attributes\n",
    "sns.countplot(train['Survived'])"
   ]
  },
  {
   "cell_type": "code",
   "execution_count": null,
   "id": "dcbe44e3",
   "metadata": {
    "execution": {
     "iopub.execute_input": "2021-10-26T14:39:53.670347Z",
     "iopub.status.busy": "2021-10-26T14:39:53.664403Z",
     "iopub.status.idle": "2021-10-26T14:39:53.843226Z",
     "shell.execute_reply": "2021-10-26T14:39:53.842340Z",
     "shell.execute_reply.started": "2021-10-26T13:26:41.213085Z"
    },
    "papermill": {
     "duration": 0.222447,
     "end_time": "2021-10-26T14:39:53.843428",
     "exception": false,
     "start_time": "2021-10-26T14:39:53.620981",
     "status": "completed"
    },
    "tags": []
   },
   "outputs": [],
   "source": [
    "sns.countplot(train['Pclass'])"
   ]
  },
  {
   "cell_type": "code",
   "execution_count": null,
   "id": "d3bd90c7",
   "metadata": {
    "execution": {
     "iopub.execute_input": "2021-10-26T14:39:53.935573Z",
     "iopub.status.busy": "2021-10-26T14:39:53.934517Z",
     "iopub.status.idle": "2021-10-26T14:39:54.202833Z",
     "shell.execute_reply": "2021-10-26T14:39:54.203417Z",
     "shell.execute_reply.started": "2021-10-26T13:27:27.939456Z"
    },
    "papermill": {
     "duration": 0.315432,
     "end_time": "2021-10-26T14:39:54.203593",
     "exception": false,
     "start_time": "2021-10-26T14:39:53.888161",
     "status": "completed"
    },
    "tags": []
   },
   "outputs": [],
   "source": [
    "sns.countplot(train['Sex'])"
   ]
  },
  {
   "cell_type": "code",
   "execution_count": null,
   "id": "6f6c6759",
   "metadata": {
    "execution": {
     "iopub.execute_input": "2021-10-26T14:39:54.289757Z",
     "iopub.status.busy": "2021-10-26T14:39:54.288835Z",
     "iopub.status.idle": "2021-10-26T14:39:54.495329Z",
     "shell.execute_reply": "2021-10-26T14:39:54.495790Z",
     "shell.execute_reply.started": "2021-10-26T13:29:04.567981Z"
    },
    "papermill": {
     "duration": 0.250733,
     "end_time": "2021-10-26T14:39:54.495967",
     "exception": false,
     "start_time": "2021-10-26T14:39:54.245234",
     "status": "completed"
    },
    "tags": []
   },
   "outputs": [],
   "source": [
    "sns.countplot(train['SibSp'])"
   ]
  },
  {
   "cell_type": "code",
   "execution_count": null,
   "id": "948a6add",
   "metadata": {
    "execution": {
     "iopub.execute_input": "2021-10-26T14:39:54.583880Z",
     "iopub.status.busy": "2021-10-26T14:39:54.583279Z",
     "iopub.status.idle": "2021-10-26T14:39:54.803053Z",
     "shell.execute_reply": "2021-10-26T14:39:54.802274Z",
     "shell.execute_reply.started": "2021-10-26T13:30:11.698675Z"
    },
    "papermill": {
     "duration": 0.264688,
     "end_time": "2021-10-26T14:39:54.803265",
     "exception": false,
     "start_time": "2021-10-26T14:39:54.538577",
     "status": "completed"
    },
    "tags": []
   },
   "outputs": [],
   "source": [
    "sns.countplot(train['Parch'])"
   ]
  },
  {
   "cell_type": "code",
   "execution_count": null,
   "id": "3f1ee980",
   "metadata": {
    "execution": {
     "iopub.execute_input": "2021-10-26T14:39:54.906333Z",
     "iopub.status.busy": "2021-10-26T14:39:54.905692Z",
     "iopub.status.idle": "2021-10-26T14:39:55.077437Z",
     "shell.execute_reply": "2021-10-26T14:39:55.076885Z",
     "shell.execute_reply.started": "2021-10-26T13:31:06.116850Z"
    },
    "papermill": {
     "duration": 0.221603,
     "end_time": "2021-10-26T14:39:55.077587",
     "exception": false,
     "start_time": "2021-10-26T14:39:54.855984",
     "status": "completed"
    },
    "tags": []
   },
   "outputs": [],
   "source": [
    "sns.countplot(train['Embarked'])"
   ]
  },
  {
   "cell_type": "code",
   "execution_count": null,
   "id": "727367c6",
   "metadata": {
    "execution": {
     "iopub.execute_input": "2021-10-26T14:39:55.192513Z",
     "iopub.status.busy": "2021-10-26T14:39:55.190965Z",
     "iopub.status.idle": "2021-10-26T14:39:55.431975Z",
     "shell.execute_reply": "2021-10-26T14:39:55.432497Z",
     "shell.execute_reply.started": "2021-10-26T13:32:30.355026Z"
    },
    "papermill": {
     "duration": 0.311216,
     "end_time": "2021-10-26T14:39:55.432668",
     "exception": false,
     "start_time": "2021-10-26T14:39:55.121452",
     "status": "completed"
    },
    "tags": []
   },
   "outputs": [],
   "source": [
    "## numerical attributes\n",
    "sns.distplot(train['Age'])"
   ]
  },
  {
   "cell_type": "code",
   "execution_count": null,
   "id": "3710f683",
   "metadata": {
    "execution": {
     "iopub.execute_input": "2021-10-26T14:39:55.534637Z",
     "iopub.status.busy": "2021-10-26T14:39:55.527902Z",
     "iopub.status.idle": "2021-10-26T14:39:55.834222Z",
     "shell.execute_reply": "2021-10-26T14:39:55.834677Z",
     "shell.execute_reply.started": "2021-10-26T13:33:45.287868Z"
    },
    "papermill": {
     "duration": 0.354661,
     "end_time": "2021-10-26T14:39:55.834852",
     "exception": false,
     "start_time": "2021-10-26T14:39:55.480191",
     "status": "completed"
    },
    "tags": []
   },
   "outputs": [],
   "source": [
    "sns.distplot(train['Fare'])"
   ]
  },
  {
   "cell_type": "code",
   "execution_count": null,
   "id": "07ce6816",
   "metadata": {
    "execution": {
     "iopub.execute_input": "2021-10-26T14:39:55.929219Z",
     "iopub.status.busy": "2021-10-26T14:39:55.928472Z",
     "iopub.status.idle": "2021-10-26T14:39:56.139991Z",
     "shell.execute_reply": "2021-10-26T14:39:56.140472Z",
     "shell.execute_reply.started": "2021-10-26T13:38:28.742151Z"
    },
    "papermill": {
     "duration": 0.260207,
     "end_time": "2021-10-26T14:39:56.140666",
     "exception": false,
     "start_time": "2021-10-26T14:39:55.880459",
     "status": "completed"
    },
    "tags": []
   },
   "outputs": [],
   "source": [
    "class_fare = train.pivot_table(index='Pclass', values='Fare')\n",
    "class_fare.plot(kind='bar')\n",
    "plt.xlabel('Pclass')\n",
    "plt.ylabel('Avg. Fare')\n",
    "plt.xticks(rotation=0)\n",
    "plt.show()"
   ]
  },
  {
   "cell_type": "code",
   "execution_count": null,
   "id": "0c60b697",
   "metadata": {
    "execution": {
     "iopub.execute_input": "2021-10-26T14:39:56.264235Z",
     "iopub.status.busy": "2021-10-26T14:39:56.242190Z",
     "iopub.status.idle": "2021-10-26T14:39:56.430974Z",
     "shell.execute_reply": "2021-10-26T14:39:56.430462Z",
     "shell.execute_reply.started": "2021-10-26T13:40:18.120856Z"
    },
    "papermill": {
     "duration": 0.244072,
     "end_time": "2021-10-26T14:39:56.431124",
     "exception": false,
     "start_time": "2021-10-26T14:39:56.187052",
     "status": "completed"
    },
    "tags": []
   },
   "outputs": [],
   "source": [
    "class_fare = train.pivot_table(index='Pclass', values='Fare', aggfunc=np.sum)\n",
    "class_fare.plot(kind='bar')\n",
    "plt.xlabel('Pclass')\n",
    "plt.ylabel('Total Fare')\n",
    "plt.xticks(rotation=0)\n",
    "plt.show()"
   ]
  },
  {
   "cell_type": "code",
   "execution_count": null,
   "id": "ec21cf92",
   "metadata": {
    "execution": {
     "iopub.execute_input": "2021-10-26T14:39:56.532517Z",
     "iopub.status.busy": "2021-10-26T14:39:56.531632Z",
     "iopub.status.idle": "2021-10-26T14:39:56.886572Z",
     "shell.execute_reply": "2021-10-26T14:39:56.887221Z",
     "shell.execute_reply.started": "2021-10-26T14:02:58.353459Z"
    },
    "papermill": {
     "duration": 0.407463,
     "end_time": "2021-10-26T14:39:56.887414",
     "exception": false,
     "start_time": "2021-10-26T14:39:56.479951",
     "status": "completed"
    },
    "tags": []
   },
   "outputs": [],
   "source": [
    "sns.barplot(data=train, x='Pclass', y='Fare', hue='Survived')"
   ]
  },
  {
   "cell_type": "code",
   "execution_count": null,
   "id": "410f48d8",
   "metadata": {
    "execution": {
     "iopub.execute_input": "2021-10-26T14:39:56.988094Z",
     "iopub.status.busy": "2021-10-26T14:39:56.987164Z",
     "iopub.status.idle": "2021-10-26T14:39:57.342916Z",
     "shell.execute_reply": "2021-10-26T14:39:57.342238Z",
     "shell.execute_reply.started": "2021-10-26T14:04:41.016891Z"
    },
    "papermill": {
     "duration": 0.407863,
     "end_time": "2021-10-26T14:39:57.343064",
     "exception": false,
     "start_time": "2021-10-26T14:39:56.935201",
     "status": "completed"
    },
    "tags": []
   },
   "outputs": [],
   "source": [
    "sns.barplot(data=train, x='Survived', y='Fare', hue='Pclass')"
   ]
  },
  {
   "cell_type": "markdown",
   "id": "d24508e0",
   "metadata": {
    "papermill": {
     "duration": 0.048157,
     "end_time": "2021-10-26T14:39:57.439959",
     "exception": false,
     "start_time": "2021-10-26T14:39:57.391802",
     "status": "completed"
    },
    "tags": []
   },
   "source": [
    "## Data Preprocessing"
   ]
  },
  {
   "cell_type": "code",
   "execution_count": null,
   "id": "1b5dd15a",
   "metadata": {
    "execution": {
     "iopub.execute_input": "2021-10-26T14:39:57.547626Z",
     "iopub.status.busy": "2021-10-26T14:39:57.544956Z",
     "iopub.status.idle": "2021-10-26T14:39:57.563157Z",
     "shell.execute_reply": "2021-10-26T14:39:57.562637Z",
     "shell.execute_reply.started": "2021-10-26T13:56:37.131490Z"
    },
    "papermill": {
     "duration": 0.074167,
     "end_time": "2021-10-26T14:39:57.563338",
     "exception": false,
     "start_time": "2021-10-26T14:39:57.489171",
     "status": "completed"
    },
    "tags": []
   },
   "outputs": [],
   "source": [
    "train_len = len(train)\n",
    "# combine two dataframes\n",
    "df = pd.concat([train, test], axis=0)\n",
    "df = df.reset_index(drop=True)\n",
    "df.head()"
   ]
  },
  {
   "cell_type": "code",
   "execution_count": null,
   "id": "2a31831b",
   "metadata": {
    "execution": {
     "iopub.execute_input": "2021-10-26T14:39:57.668381Z",
     "iopub.status.busy": "2021-10-26T14:39:57.667723Z",
     "iopub.status.idle": "2021-10-26T14:39:57.679110Z",
     "shell.execute_reply": "2021-10-26T14:39:57.679678Z",
     "shell.execute_reply.started": "2021-10-26T13:56:39.579192Z"
    },
    "papermill": {
     "duration": 0.065557,
     "end_time": "2021-10-26T14:39:57.679841",
     "exception": false,
     "start_time": "2021-10-26T14:39:57.614284",
     "status": "completed"
    },
    "tags": []
   },
   "outputs": [],
   "source": [
    "df.tail()"
   ]
  },
  {
   "cell_type": "code",
   "execution_count": null,
   "id": "30cd102b",
   "metadata": {
    "execution": {
     "iopub.execute_input": "2021-10-26T14:39:57.781612Z",
     "iopub.status.busy": "2021-10-26T14:39:57.780995Z",
     "iopub.status.idle": "2021-10-26T14:39:57.788191Z",
     "shell.execute_reply": "2021-10-26T14:39:57.788710Z",
     "shell.execute_reply.started": "2021-10-26T13:56:43.674630Z"
    },
    "papermill": {
     "duration": 0.059742,
     "end_time": "2021-10-26T14:39:57.788872",
     "exception": false,
     "start_time": "2021-10-26T14:39:57.729130",
     "status": "completed"
    },
    "tags": []
   },
   "outputs": [],
   "source": [
    "## find the null values\n",
    "df.isnull().sum()"
   ]
  },
  {
   "cell_type": "code",
   "execution_count": null,
   "id": "6348c916",
   "metadata": {
    "execution": {
     "iopub.execute_input": "2021-10-26T14:39:57.891301Z",
     "iopub.status.busy": "2021-10-26T14:39:57.890660Z",
     "iopub.status.idle": "2021-10-26T14:39:57.894729Z",
     "shell.execute_reply": "2021-10-26T14:39:57.895276Z",
     "shell.execute_reply.started": "2021-10-26T13:56:43.767948Z"
    },
    "papermill": {
     "duration": 0.057113,
     "end_time": "2021-10-26T14:39:57.895471",
     "exception": false,
     "start_time": "2021-10-26T14:39:57.838358",
     "status": "completed"
    },
    "tags": []
   },
   "outputs": [],
   "source": [
    "# drop or delete the column\n",
    "df = df.drop(columns=['Cabin'], axis=1)"
   ]
  },
  {
   "cell_type": "code",
   "execution_count": null,
   "id": "4ab016ab",
   "metadata": {
    "execution": {
     "iopub.execute_input": "2021-10-26T14:39:57.998471Z",
     "iopub.status.busy": "2021-10-26T14:39:57.997812Z",
     "iopub.status.idle": "2021-10-26T14:39:58.002901Z",
     "shell.execute_reply": "2021-10-26T14:39:58.003485Z",
     "shell.execute_reply.started": "2021-10-26T13:56:44.085547Z"
    },
    "papermill": {
     "duration": 0.058866,
     "end_time": "2021-10-26T14:39:58.003680",
     "exception": false,
     "start_time": "2021-10-26T14:39:57.944814",
     "status": "completed"
    },
    "tags": []
   },
   "outputs": [],
   "source": [
    "df['Age'].mean()"
   ]
  },
  {
   "cell_type": "code",
   "execution_count": null,
   "id": "237a0e0d",
   "metadata": {
    "execution": {
     "iopub.execute_input": "2021-10-26T14:39:58.109798Z",
     "iopub.status.busy": "2021-10-26T14:39:58.108381Z",
     "iopub.status.idle": "2021-10-26T14:39:58.112490Z",
     "shell.execute_reply": "2021-10-26T14:39:58.112970Z",
     "shell.execute_reply.started": "2021-10-26T13:56:44.222872Z"
    },
    "papermill": {
     "duration": 0.058801,
     "end_time": "2021-10-26T14:39:58.113135",
     "exception": false,
     "start_time": "2021-10-26T14:39:58.054334",
     "status": "completed"
    },
    "tags": []
   },
   "outputs": [],
   "source": [
    "# fill missing values using mean of the numerical column\n",
    "df['Age'] = df['Age'].fillna(df['Age'].mean())\n",
    "df['Fare'] = df['Fare'].fillna(df['Fare'].mean())"
   ]
  },
  {
   "cell_type": "code",
   "execution_count": null,
   "id": "b595cdd7",
   "metadata": {
    "execution": {
     "iopub.execute_input": "2021-10-26T14:39:58.218629Z",
     "iopub.status.busy": "2021-10-26T14:39:58.218015Z",
     "iopub.status.idle": "2021-10-26T14:39:58.220186Z",
     "shell.execute_reply": "2021-10-26T14:39:58.220740Z",
     "shell.execute_reply.started": "2021-10-26T13:56:44.592316Z"
    },
    "papermill": {
     "duration": 0.05757,
     "end_time": "2021-10-26T14:39:58.220901",
     "exception": false,
     "start_time": "2021-10-26T14:39:58.163331",
     "status": "completed"
    },
    "tags": []
   },
   "outputs": [],
   "source": [
    "df['Embarked'].mode()[0]"
   ]
  },
  {
   "cell_type": "code",
   "execution_count": null,
   "id": "4ba56936",
   "metadata": {
    "execution": {
     "iopub.execute_input": "2021-10-26T14:39:58.327206Z",
     "iopub.status.busy": "2021-10-26T14:39:58.326640Z",
     "iopub.status.idle": "2021-10-26T14:39:58.328630Z",
     "shell.execute_reply": "2021-10-26T14:39:58.329061Z",
     "shell.execute_reply.started": "2021-10-26T13:56:44.876390Z"
    },
    "papermill": {
     "duration": 0.058328,
     "end_time": "2021-10-26T14:39:58.329215",
     "exception": false,
     "start_time": "2021-10-26T14:39:58.270887",
     "status": "completed"
    },
    "tags": []
   },
   "outputs": [],
   "source": [
    "# fill missing values using mode of the categorical column\n",
    "df['Embarked'] = df['Embarked'].fillna(df['Embarked'].mode()[0])"
   ]
  },
  {
   "cell_type": "markdown",
   "id": "4bdc1ace",
   "metadata": {
    "papermill": {
     "duration": 0.049573,
     "end_time": "2021-10-26T14:39:58.428350",
     "exception": false,
     "start_time": "2021-10-26T14:39:58.378777",
     "status": "completed"
    },
    "tags": []
   },
   "source": [
    "## Log transformation for uniform data distribution"
   ]
  },
  {
   "cell_type": "code",
   "execution_count": null,
   "id": "6c453ad5",
   "metadata": {
    "execution": {
     "iopub.execute_input": "2021-10-26T14:39:58.531610Z",
     "iopub.status.busy": "2021-10-26T14:39:58.531015Z",
     "iopub.status.idle": "2021-10-26T14:39:58.844928Z",
     "shell.execute_reply": "2021-10-26T14:39:58.845420Z",
     "shell.execute_reply.started": "2021-10-26T13:56:46.117505Z"
    },
    "papermill": {
     "duration": 0.367478,
     "end_time": "2021-10-26T14:39:58.845612",
     "exception": false,
     "start_time": "2021-10-26T14:39:58.478134",
     "status": "completed"
    },
    "tags": []
   },
   "outputs": [],
   "source": [
    "sns.distplot(df['Fare'])"
   ]
  },
  {
   "cell_type": "code",
   "execution_count": null,
   "id": "2eeeae34",
   "metadata": {
    "execution": {
     "iopub.execute_input": "2021-10-26T14:39:58.952173Z",
     "iopub.status.busy": "2021-10-26T14:39:58.951549Z",
     "iopub.status.idle": "2021-10-26T14:39:58.955511Z",
     "shell.execute_reply": "2021-10-26T14:39:58.956003Z",
     "shell.execute_reply.started": "2021-10-26T13:56:46.796655Z"
    },
    "papermill": {
     "duration": 0.058977,
     "end_time": "2021-10-26T14:39:58.956180",
     "exception": false,
     "start_time": "2021-10-26T14:39:58.897203",
     "status": "completed"
    },
    "tags": []
   },
   "outputs": [],
   "source": [
    "df['Fare'] = np.log(df['Fare']+1)"
   ]
  },
  {
   "cell_type": "code",
   "execution_count": null,
   "id": "29ef8866",
   "metadata": {
    "execution": {
     "iopub.execute_input": "2021-10-26T14:39:59.065143Z",
     "iopub.status.busy": "2021-10-26T14:39:59.064527Z",
     "iopub.status.idle": "2021-10-26T14:39:59.347455Z",
     "shell.execute_reply": "2021-10-26T14:39:59.346876Z",
     "shell.execute_reply.started": "2021-10-26T13:56:48.243426Z"
    },
    "papermill": {
     "duration": 0.336811,
     "end_time": "2021-10-26T14:39:59.347631",
     "exception": false,
     "start_time": "2021-10-26T14:39:59.010820",
     "status": "completed"
    },
    "tags": []
   },
   "outputs": [],
   "source": [
    "sns.distplot(df['Fare'])"
   ]
  },
  {
   "cell_type": "markdown",
   "id": "33e58957",
   "metadata": {
    "papermill": {
     "duration": 0.051724,
     "end_time": "2021-10-26T14:39:59.451308",
     "exception": false,
     "start_time": "2021-10-26T14:39:59.399584",
     "status": "completed"
    },
    "tags": []
   },
   "source": [
    "## Correlation Matrix"
   ]
  },
  {
   "cell_type": "code",
   "execution_count": null,
   "id": "fa618375",
   "metadata": {
    "execution": {
     "iopub.execute_input": "2021-10-26T14:39:59.559935Z",
     "iopub.status.busy": "2021-10-26T14:39:59.558950Z",
     "iopub.status.idle": "2021-10-26T14:40:00.134396Z",
     "shell.execute_reply": "2021-10-26T14:40:00.134865Z",
     "shell.execute_reply.started": "2021-10-26T13:56:50.439863Z"
    },
    "papermill": {
     "duration": 0.631059,
     "end_time": "2021-10-26T14:40:00.135031",
     "exception": false,
     "start_time": "2021-10-26T14:39:59.503972",
     "status": "completed"
    },
    "tags": []
   },
   "outputs": [],
   "source": [
    "corr = df.corr()\n",
    "plt.figure(figsize=(15, 9))\n",
    "sns.heatmap(corr, annot=True, cmap='coolwarm')"
   ]
  },
  {
   "cell_type": "code",
   "execution_count": null,
   "id": "e3ea1303",
   "metadata": {
    "execution": {
     "iopub.execute_input": "2021-10-26T14:40:00.259119Z",
     "iopub.status.busy": "2021-10-26T14:40:00.258303Z",
     "iopub.status.idle": "2021-10-26T14:40:00.261614Z",
     "shell.execute_reply": "2021-10-26T14:40:00.262182Z",
     "shell.execute_reply.started": "2021-10-26T14:06:14.643056Z"
    },
    "papermill": {
     "duration": 0.073753,
     "end_time": "2021-10-26T14:40:00.262390",
     "exception": false,
     "start_time": "2021-10-26T14:40:00.188637",
     "status": "completed"
    },
    "tags": []
   },
   "outputs": [],
   "source": [
    "df.head()"
   ]
  },
  {
   "cell_type": "code",
   "execution_count": null,
   "id": "a7743828",
   "metadata": {
    "execution": {
     "iopub.execute_input": "2021-10-26T14:40:00.377189Z",
     "iopub.status.busy": "2021-10-26T14:40:00.376556Z",
     "iopub.status.idle": "2021-10-26T14:40:00.389911Z",
     "shell.execute_reply": "2021-10-26T14:40:00.390437Z",
     "shell.execute_reply.started": "2021-10-26T14:07:57.367903Z"
    },
    "papermill": {
     "duration": 0.07386,
     "end_time": "2021-10-26T14:40:00.390607",
     "exception": false,
     "start_time": "2021-10-26T14:40:00.316747",
     "status": "completed"
    },
    "tags": []
   },
   "outputs": [],
   "source": [
    "## drop unnecessary columns\n",
    "df = df.drop(columns=['Name', 'Ticket'], axis=1)\n",
    "df.head()"
   ]
  },
  {
   "cell_type": "markdown",
   "id": "ade57ccd",
   "metadata": {
    "papermill": {
     "duration": 0.054625,
     "end_time": "2021-10-26T14:40:00.500134",
     "exception": false,
     "start_time": "2021-10-26T14:40:00.445509",
     "status": "completed"
    },
    "tags": []
   },
   "source": [
    "## Label Encoding"
   ]
  },
  {
   "cell_type": "code",
   "execution_count": null,
   "id": "401140f1",
   "metadata": {
    "execution": {
     "iopub.execute_input": "2021-10-26T14:40:00.616564Z",
     "iopub.status.busy": "2021-10-26T14:40:00.615870Z",
     "iopub.status.idle": "2021-10-26T14:40:00.738230Z",
     "shell.execute_reply": "2021-10-26T14:40:00.737756Z",
     "shell.execute_reply.started": "2021-10-26T14:09:40.532050Z"
    },
    "papermill": {
     "duration": 0.182109,
     "end_time": "2021-10-26T14:40:00.738396",
     "exception": false,
     "start_time": "2021-10-26T14:40:00.556287",
     "status": "completed"
    },
    "tags": []
   },
   "outputs": [],
   "source": [
    "from sklearn.preprocessing import LabelEncoder\n",
    "cols = ['Sex', 'Embarked']\n",
    "le = LabelEncoder()\n",
    "\n",
    "for col in cols:\n",
    "    df[col] = le.fit_transform(df[col])\n",
    "df.head()"
   ]
  },
  {
   "cell_type": "markdown",
   "id": "37aa5d2b",
   "metadata": {
    "papermill": {
     "duration": 0.056568,
     "end_time": "2021-10-26T14:40:00.850393",
     "exception": false,
     "start_time": "2021-10-26T14:40:00.793825",
     "status": "completed"
    },
    "tags": []
   },
   "source": [
    "## Train-Test Split"
   ]
  },
  {
   "cell_type": "code",
   "execution_count": null,
   "id": "e0776be5",
   "metadata": {
    "execution": {
     "iopub.execute_input": "2021-10-26T14:40:00.965452Z",
     "iopub.status.busy": "2021-10-26T14:40:00.964833Z",
     "iopub.status.idle": "2021-10-26T14:40:00.967423Z",
     "shell.execute_reply": "2021-10-26T14:40:00.966931Z",
     "shell.execute_reply.started": "2021-10-26T14:11:45.454858Z"
    },
    "papermill": {
     "duration": 0.062281,
     "end_time": "2021-10-26T14:40:00.967568",
     "exception": false,
     "start_time": "2021-10-26T14:40:00.905287",
     "status": "completed"
    },
    "tags": []
   },
   "outputs": [],
   "source": [
    "train = df.iloc[:train_len, :]\n",
    "test = df.iloc[train_len:, :]"
   ]
  },
  {
   "cell_type": "code",
   "execution_count": null,
   "id": "982ff30e",
   "metadata": {
    "execution": {
     "iopub.execute_input": "2021-10-26T14:40:01.083139Z",
     "iopub.status.busy": "2021-10-26T14:40:01.082545Z",
     "iopub.status.idle": "2021-10-26T14:40:01.094677Z",
     "shell.execute_reply": "2021-10-26T14:40:01.094144Z",
     "shell.execute_reply.started": "2021-10-26T14:11:51.292028Z"
    },
    "papermill": {
     "duration": 0.071803,
     "end_time": "2021-10-26T14:40:01.094826",
     "exception": false,
     "start_time": "2021-10-26T14:40:01.023023",
     "status": "completed"
    },
    "tags": []
   },
   "outputs": [],
   "source": [
    "train.head()"
   ]
  },
  {
   "cell_type": "code",
   "execution_count": null,
   "id": "0bdf1b78",
   "metadata": {
    "execution": {
     "iopub.execute_input": "2021-10-26T14:40:01.223932Z",
     "iopub.status.busy": "2021-10-26T14:40:01.214544Z",
     "iopub.status.idle": "2021-10-26T14:40:01.228037Z",
     "shell.execute_reply": "2021-10-26T14:40:01.227397Z",
     "shell.execute_reply.started": "2021-10-26T14:11:57.306026Z"
    },
    "papermill": {
     "duration": 0.074994,
     "end_time": "2021-10-26T14:40:01.228184",
     "exception": false,
     "start_time": "2021-10-26T14:40:01.153190",
     "status": "completed"
    },
    "tags": []
   },
   "outputs": [],
   "source": [
    "test.head()"
   ]
  },
  {
   "cell_type": "code",
   "execution_count": null,
   "id": "919d59d5",
   "metadata": {
    "execution": {
     "iopub.execute_input": "2021-10-26T14:40:01.349079Z",
     "iopub.status.busy": "2021-10-26T14:40:01.347672Z",
     "iopub.status.idle": "2021-10-26T14:40:01.352199Z",
     "shell.execute_reply": "2021-10-26T14:40:01.351668Z",
     "shell.execute_reply.started": "2021-10-26T14:13:29.102488Z"
    },
    "papermill": {
     "duration": 0.066526,
     "end_time": "2021-10-26T14:40:01.352355",
     "exception": false,
     "start_time": "2021-10-26T14:40:01.285829",
     "status": "completed"
    },
    "tags": []
   },
   "outputs": [],
   "source": [
    "# input split\n",
    "X = train.drop(columns=['PassengerId', 'Survived'], axis=1)\n",
    "y = train['Survived']"
   ]
  },
  {
   "cell_type": "code",
   "execution_count": null,
   "id": "cdd472cb",
   "metadata": {
    "execution": {
     "iopub.execute_input": "2021-10-26T14:40:01.474332Z",
     "iopub.status.busy": "2021-10-26T14:40:01.473685Z",
     "iopub.status.idle": "2021-10-26T14:40:01.482336Z",
     "shell.execute_reply": "2021-10-26T14:40:01.482819Z",
     "shell.execute_reply.started": "2021-10-26T14:13:42.844559Z"
    },
    "papermill": {
     "duration": 0.073156,
     "end_time": "2021-10-26T14:40:01.483008",
     "exception": false,
     "start_time": "2021-10-26T14:40:01.409852",
     "status": "completed"
    },
    "tags": []
   },
   "outputs": [],
   "source": [
    "X.head()"
   ]
  },
  {
   "cell_type": "markdown",
   "id": "c38aba4a",
   "metadata": {
    "papermill": {
     "duration": 0.05648,
     "end_time": "2021-10-26T14:40:01.595542",
     "exception": false,
     "start_time": "2021-10-26T14:40:01.539062",
     "status": "completed"
    },
    "tags": []
   },
   "source": [
    "## Model Training"
   ]
  },
  {
   "cell_type": "code",
   "execution_count": null,
   "id": "2ab207c7",
   "metadata": {
    "execution": {
     "iopub.execute_input": "2021-10-26T14:40:01.711591Z",
     "iopub.status.busy": "2021-10-26T14:40:01.710790Z",
     "iopub.status.idle": "2021-10-26T14:40:01.777518Z",
     "shell.execute_reply": "2021-10-26T14:40:01.776905Z",
     "shell.execute_reply.started": "2021-10-26T14:24:14.689882Z"
    },
    "papermill": {
     "duration": 0.125748,
     "end_time": "2021-10-26T14:40:01.777684",
     "exception": false,
     "start_time": "2021-10-26T14:40:01.651936",
     "status": "completed"
    },
    "tags": []
   },
   "outputs": [],
   "source": [
    "from sklearn.model_selection import train_test_split, cross_val_score\n",
    "# classify column\n",
    "def classify(model):\n",
    "    x_train, x_test, y_train, y_test = train_test_split(X, y, test_size=0.25, random_state=42)\n",
    "    model.fit(x_train, y_train)\n",
    "    print('Accuracy:', model.score(x_test, y_test))\n",
    "    \n",
    "    score = cross_val_score(model, X, y, cv=5)\n",
    "    print('CV Score:', np.mean(score))"
   ]
  },
  {
   "cell_type": "code",
   "execution_count": null,
   "id": "13ae26c6",
   "metadata": {
    "execution": {
     "iopub.execute_input": "2021-10-26T14:40:01.903363Z",
     "iopub.status.busy": "2021-10-26T14:40:01.902779Z",
     "iopub.status.idle": "2021-10-26T14:40:02.272377Z",
     "shell.execute_reply": "2021-10-26T14:40:02.271877Z",
     "shell.execute_reply.started": "2021-10-26T14:24:15.464833Z"
    },
    "papermill": {
     "duration": 0.43207,
     "end_time": "2021-10-26T14:40:02.272542",
     "exception": false,
     "start_time": "2021-10-26T14:40:01.840472",
     "status": "completed"
    },
    "tags": []
   },
   "outputs": [],
   "source": [
    "from sklearn.linear_model import LogisticRegression\n",
    "model = LogisticRegression()\n",
    "classify(model)"
   ]
  },
  {
   "cell_type": "code",
   "execution_count": null,
   "id": "c6b2936f",
   "metadata": {
    "execution": {
     "iopub.execute_input": "2021-10-26T14:40:02.389536Z",
     "iopub.status.busy": "2021-10-26T14:40:02.388941Z",
     "iopub.status.idle": "2021-10-26T14:40:02.518843Z",
     "shell.execute_reply": "2021-10-26T14:40:02.517948Z",
     "shell.execute_reply.started": "2021-10-26T14:24:16.297569Z"
    },
    "papermill": {
     "duration": 0.190053,
     "end_time": "2021-10-26T14:40:02.519031",
     "exception": false,
     "start_time": "2021-10-26T14:40:02.328978",
     "status": "completed"
    },
    "tags": []
   },
   "outputs": [],
   "source": [
    "from sklearn.tree import DecisionTreeClassifier\n",
    "model = DecisionTreeClassifier()\n",
    "classify(model)"
   ]
  },
  {
   "cell_type": "code",
   "execution_count": null,
   "id": "c19492dd",
   "metadata": {
    "execution": {
     "iopub.execute_input": "2021-10-26T14:40:02.639633Z",
     "iopub.status.busy": "2021-10-26T14:40:02.638829Z",
     "iopub.status.idle": "2021-10-26T14:40:03.768778Z",
     "shell.execute_reply": "2021-10-26T14:40:03.768207Z",
     "shell.execute_reply.started": "2021-10-26T14:24:17.976407Z"
    },
    "papermill": {
     "duration": 1.191513,
     "end_time": "2021-10-26T14:40:03.768926",
     "exception": false,
     "start_time": "2021-10-26T14:40:02.577413",
     "status": "completed"
    },
    "tags": []
   },
   "outputs": [],
   "source": [
    "from sklearn.ensemble import RandomForestClassifier\n",
    "model = RandomForestClassifier()\n",
    "classify(model)"
   ]
  },
  {
   "cell_type": "code",
   "execution_count": null,
   "id": "c52e6856",
   "metadata": {
    "execution": {
     "iopub.execute_input": "2021-10-26T14:40:03.886379Z",
     "iopub.status.busy": "2021-10-26T14:40:03.885812Z",
     "iopub.status.idle": "2021-10-26T14:40:04.796203Z",
     "shell.execute_reply": "2021-10-26T14:40:04.795428Z",
     "shell.execute_reply.started": "2021-10-26T14:25:06.863911Z"
    },
    "papermill": {
     "duration": 0.969994,
     "end_time": "2021-10-26T14:40:04.796414",
     "exception": false,
     "start_time": "2021-10-26T14:40:03.826420",
     "status": "completed"
    },
    "tags": []
   },
   "outputs": [],
   "source": [
    "from sklearn.ensemble import ExtraTreesClassifier\n",
    "model = ExtraTreesClassifier()\n",
    "classify(model)"
   ]
  },
  {
   "cell_type": "code",
   "execution_count": null,
   "id": "c03580ee",
   "metadata": {
    "execution": {
     "iopub.execute_input": "2021-10-26T14:40:04.917125Z",
     "iopub.status.busy": "2021-10-26T14:40:04.916404Z",
     "iopub.status.idle": "2021-10-26T14:40:05.512169Z",
     "shell.execute_reply": "2021-10-26T14:40:05.512693Z",
     "shell.execute_reply.started": "2021-10-26T14:25:34.368204Z"
    },
    "papermill": {
     "duration": 0.658113,
     "end_time": "2021-10-26T14:40:05.512880",
     "exception": false,
     "start_time": "2021-10-26T14:40:04.854767",
     "status": "completed"
    },
    "tags": []
   },
   "outputs": [],
   "source": [
    "from xgboost import XGBClassifier\n",
    "model = XGBClassifier()\n",
    "classify(model)"
   ]
  },
  {
   "cell_type": "code",
   "execution_count": null,
   "id": "c2103438",
   "metadata": {
    "execution": {
     "iopub.execute_input": "2021-10-26T14:40:05.634090Z",
     "iopub.status.busy": "2021-10-26T14:40:05.633471Z",
     "iopub.status.idle": "2021-10-26T14:40:07.368906Z",
     "shell.execute_reply": "2021-10-26T14:40:07.370036Z",
     "shell.execute_reply.started": "2021-10-26T14:26:13.583660Z"
    },
    "papermill": {
     "duration": 1.79848,
     "end_time": "2021-10-26T14:40:07.370311",
     "exception": false,
     "start_time": "2021-10-26T14:40:05.571831",
     "status": "completed"
    },
    "tags": []
   },
   "outputs": [],
   "source": [
    "from lightgbm import LGBMClassifier\n",
    "model = LGBMClassifier()\n",
    "classify(model)"
   ]
  },
  {
   "cell_type": "code",
   "execution_count": null,
   "id": "df37859c",
   "metadata": {
    "execution": {
     "iopub.execute_input": "2021-10-26T14:40:07.502973Z",
     "iopub.status.busy": "2021-10-26T14:40:07.502333Z",
     "iopub.status.idle": "2021-10-26T14:40:12.891053Z",
     "shell.execute_reply": "2021-10-26T14:40:12.890564Z",
     "shell.execute_reply.started": "2021-10-26T14:27:01.384113Z"
    },
    "papermill": {
     "duration": 5.453449,
     "end_time": "2021-10-26T14:40:12.891210",
     "exception": false,
     "start_time": "2021-10-26T14:40:07.437761",
     "status": "completed"
    },
    "tags": []
   },
   "outputs": [],
   "source": [
    "from catboost import CatBoostClassifier\n",
    "model = CatBoostClassifier(verbose=0)\n",
    "classify(model)"
   ]
  },
  {
   "cell_type": "markdown",
   "id": "cd7d48af",
   "metadata": {
    "papermill": {
     "duration": 0.060015,
     "end_time": "2021-10-26T14:40:13.011975",
     "exception": false,
     "start_time": "2021-10-26T14:40:12.951960",
     "status": "completed"
    },
    "tags": []
   },
   "source": [
    "## Complete Model Training with Full Data"
   ]
  },
  {
   "cell_type": "code",
   "execution_count": null,
   "id": "c36f6f17",
   "metadata": {
    "execution": {
     "iopub.execute_input": "2021-10-26T14:40:13.138222Z",
     "iopub.status.busy": "2021-10-26T14:40:13.137294Z",
     "iopub.status.idle": "2021-10-26T14:40:13.223361Z",
     "shell.execute_reply": "2021-10-26T14:40:13.222781Z",
     "shell.execute_reply.started": "2021-10-26T14:28:22.512173Z"
    },
    "papermill": {
     "duration": 0.15166,
     "end_time": "2021-10-26T14:40:13.223514",
     "exception": false,
     "start_time": "2021-10-26T14:40:13.071854",
     "status": "completed"
    },
    "tags": []
   },
   "outputs": [],
   "source": [
    "model = LGBMClassifier()\n",
    "model.fit(X, y)"
   ]
  },
  {
   "cell_type": "code",
   "execution_count": null,
   "id": "784e7b43",
   "metadata": {
    "execution": {
     "iopub.execute_input": "2021-10-26T14:40:13.356973Z",
     "iopub.status.busy": "2021-10-26T14:40:13.355981Z",
     "iopub.status.idle": "2021-10-26T14:40:13.359495Z",
     "shell.execute_reply": "2021-10-26T14:40:13.359916Z",
     "shell.execute_reply.started": "2021-10-26T14:28:48.451537Z"
    },
    "papermill": {
     "duration": 0.076399,
     "end_time": "2021-10-26T14:40:13.360082",
     "exception": false,
     "start_time": "2021-10-26T14:40:13.283683",
     "status": "completed"
    },
    "tags": []
   },
   "outputs": [],
   "source": [
    "test.head()"
   ]
  },
  {
   "cell_type": "code",
   "execution_count": null,
   "id": "15fa3a48",
   "metadata": {
    "execution": {
     "iopub.execute_input": "2021-10-26T14:40:13.487356Z",
     "iopub.status.busy": "2021-10-26T14:40:13.486619Z",
     "iopub.status.idle": "2021-10-26T14:40:13.489331Z",
     "shell.execute_reply": "2021-10-26T14:40:13.488768Z",
     "shell.execute_reply.started": "2021-10-26T14:30:25.011271Z"
    },
    "papermill": {
     "duration": 0.068878,
     "end_time": "2021-10-26T14:40:13.489471",
     "exception": false,
     "start_time": "2021-10-26T14:40:13.420593",
     "status": "completed"
    },
    "tags": []
   },
   "outputs": [],
   "source": [
    "# input split for test data\n",
    "X_test = test.drop(columns=['PassengerId', 'Survived'], axis=1)"
   ]
  },
  {
   "cell_type": "code",
   "execution_count": null,
   "id": "3c6edd36",
   "metadata": {
    "execution": {
     "iopub.execute_input": "2021-10-26T14:40:13.620838Z",
     "iopub.status.busy": "2021-10-26T14:40:13.617444Z",
     "iopub.status.idle": "2021-10-26T14:40:13.625103Z",
     "shell.execute_reply": "2021-10-26T14:40:13.624628Z",
     "shell.execute_reply.started": "2021-10-26T14:30:25.728443Z"
    },
    "papermill": {
     "duration": 0.075487,
     "end_time": "2021-10-26T14:40:13.625263",
     "exception": false,
     "start_time": "2021-10-26T14:40:13.549776",
     "status": "completed"
    },
    "tags": []
   },
   "outputs": [],
   "source": [
    "X_test.head()"
   ]
  },
  {
   "cell_type": "code",
   "execution_count": null,
   "id": "3bc32f1b",
   "metadata": {
    "execution": {
     "iopub.execute_input": "2021-10-26T14:40:13.755821Z",
     "iopub.status.busy": "2021-10-26T14:40:13.755129Z",
     "iopub.status.idle": "2021-10-26T14:40:13.768940Z",
     "shell.execute_reply": "2021-10-26T14:40:13.768394Z",
     "shell.execute_reply.started": "2021-10-26T14:30:31.019109Z"
    },
    "papermill": {
     "duration": 0.082263,
     "end_time": "2021-10-26T14:40:13.769079",
     "exception": false,
     "start_time": "2021-10-26T14:40:13.686816",
     "status": "completed"
    },
    "tags": []
   },
   "outputs": [],
   "source": [
    "pred = model.predict(X_test)\n",
    "pred"
   ]
  },
  {
   "cell_type": "markdown",
   "id": "2072b75e",
   "metadata": {
    "papermill": {
     "duration": 0.061044,
     "end_time": "2021-10-26T14:40:13.893390",
     "exception": false,
     "start_time": "2021-10-26T14:40:13.832346",
     "status": "completed"
    },
    "tags": []
   },
   "source": [
    "## Test Submission"
   ]
  },
  {
   "cell_type": "code",
   "execution_count": null,
   "id": "88f711ee",
   "metadata": {
    "execution": {
     "iopub.execute_input": "2021-10-26T14:40:14.023573Z",
     "iopub.status.busy": "2021-10-26T14:40:14.022879Z",
     "iopub.status.idle": "2021-10-26T14:40:14.037946Z",
     "shell.execute_reply": "2021-10-26T14:40:14.037281Z",
     "shell.execute_reply.started": "2021-10-26T14:31:36.799477Z"
    },
    "papermill": {
     "duration": 0.081641,
     "end_time": "2021-10-26T14:40:14.038101",
     "exception": false,
     "start_time": "2021-10-26T14:40:13.956460",
     "status": "completed"
    },
    "tags": []
   },
   "outputs": [],
   "source": [
    "sub = pd.read_csv('/kaggle/input/titanic/gender_submission.csv')\n",
    "sub.head()"
   ]
  },
  {
   "cell_type": "code",
   "execution_count": null,
   "id": "53a46a4c",
   "metadata": {
    "execution": {
     "iopub.execute_input": "2021-10-26T14:40:14.165442Z",
     "iopub.status.busy": "2021-10-26T14:40:14.164824Z",
     "iopub.status.idle": "2021-10-26T14:40:14.175104Z",
     "shell.execute_reply": "2021-10-26T14:40:14.175559Z",
     "shell.execute_reply.started": "2021-10-26T14:39:07.214394Z"
    },
    "papermill": {
     "duration": 0.075318,
     "end_time": "2021-10-26T14:40:14.175740",
     "exception": false,
     "start_time": "2021-10-26T14:40:14.100422",
     "status": "completed"
    },
    "tags": []
   },
   "outputs": [],
   "source": [
    "sub.info()"
   ]
  },
  {
   "cell_type": "code",
   "execution_count": null,
   "id": "b34c63c5",
   "metadata": {
    "execution": {
     "iopub.execute_input": "2021-10-26T14:40:14.306143Z",
     "iopub.status.busy": "2021-10-26T14:40:14.305519Z",
     "iopub.status.idle": "2021-10-26T14:40:14.308189Z",
     "shell.execute_reply": "2021-10-26T14:40:14.307741Z",
     "shell.execute_reply.started": "2021-10-26T14:39:15.151826Z"
    },
    "papermill": {
     "duration": 0.070529,
     "end_time": "2021-10-26T14:40:14.308354",
     "exception": false,
     "start_time": "2021-10-26T14:40:14.237825",
     "status": "completed"
    },
    "tags": []
   },
   "outputs": [],
   "source": [
    "sub['Survived'] = pred\n",
    "sub['Survived'] = sub['Survived'].astype('int')"
   ]
  },
  {
   "cell_type": "code",
   "execution_count": null,
   "id": "96e8f0f5",
   "metadata": {
    "execution": {
     "iopub.execute_input": "2021-10-26T14:40:14.444649Z",
     "iopub.status.busy": "2021-10-26T14:40:14.443999Z",
     "iopub.status.idle": "2021-10-26T14:40:14.446145Z",
     "shell.execute_reply": "2021-10-26T14:40:14.447053Z",
     "shell.execute_reply.started": "2021-10-26T14:39:21.663803Z"
    },
    "papermill": {
     "duration": 0.076149,
     "end_time": "2021-10-26T14:40:14.447221",
     "exception": false,
     "start_time": "2021-10-26T14:40:14.371072",
     "status": "completed"
    },
    "tags": []
   },
   "outputs": [],
   "source": [
    "sub.info()"
   ]
  },
  {
   "cell_type": "code",
   "execution_count": null,
   "id": "cb4552a5",
   "metadata": {
    "execution": {
     "iopub.execute_input": "2021-10-26T14:40:14.579640Z",
     "iopub.status.busy": "2021-10-26T14:40:14.578665Z",
     "iopub.status.idle": "2021-10-26T14:40:14.582696Z",
     "shell.execute_reply": "2021-10-26T14:40:14.582179Z",
     "shell.execute_reply.started": "2021-10-26T14:39:26.347124Z"
    },
    "papermill": {
     "duration": 0.073952,
     "end_time": "2021-10-26T14:40:14.582840",
     "exception": false,
     "start_time": "2021-10-26T14:40:14.508888",
     "status": "completed"
    },
    "tags": []
   },
   "outputs": [],
   "source": [
    "sub.head()"
   ]
  },
  {
   "cell_type": "code",
   "execution_count": null,
   "id": "296d6fc4",
   "metadata": {
    "execution": {
     "iopub.execute_input": "2021-10-26T14:40:14.713521Z",
     "iopub.status.busy": "2021-10-26T14:40:14.712839Z",
     "iopub.status.idle": "2021-10-26T14:40:14.718981Z",
     "shell.execute_reply": "2021-10-26T14:40:14.718390Z",
     "shell.execute_reply.started": "2021-10-26T14:39:28.857850Z"
    },
    "papermill": {
     "duration": 0.073297,
     "end_time": "2021-10-26T14:40:14.719115",
     "exception": false,
     "start_time": "2021-10-26T14:40:14.645818",
     "status": "completed"
    },
    "tags": []
   },
   "outputs": [],
   "source": [
    "sub.to_csv('submission.csv', index=False)"
   ]
  },
  {
   "cell_type": "code",
   "execution_count": null,
   "id": "f4c752f3",
   "metadata": {
    "papermill": {
     "duration": 0.062002,
     "end_time": "2021-10-26T14:40:14.844341",
     "exception": false,
     "start_time": "2021-10-26T14:40:14.782339",
     "status": "completed"
    },
    "tags": []
   },
   "outputs": [],
   "source": []
  },
  {
   "cell_type": "code",
   "execution_count": null,
   "id": "54f67b7d",
   "metadata": {
    "papermill": {
     "duration": 0.062958,
     "end_time": "2021-10-26T14:40:14.969741",
     "exception": false,
     "start_time": "2021-10-26T14:40:14.906783",
     "status": "completed"
    },
    "tags": []
   },
   "outputs": [],
   "source": []
  },
  {
   "cell_type": "code",
   "execution_count": null,
   "id": "5d92f513",
   "metadata": {
    "papermill": {
     "duration": 0.061686,
     "end_time": "2021-10-26T14:40:15.093961",
     "exception": false,
     "start_time": "2021-10-26T14:40:15.032275",
     "status": "completed"
    },
    "tags": []
   },
   "outputs": [],
   "source": []
  }
 ],
 "metadata": {
  "kernelspec": {
   "display_name": "Python 3",
   "language": "python",
   "name": "python3"
  },
  "language_info": {
   "codemirror_mode": {
    "name": "ipython",
    "version": 3
   },
   "file_extension": ".py",
   "mimetype": "text/x-python",
   "name": "python",
   "nbconvert_exporter": "python",
   "pygments_lexer": "ipython3",
   "version": "3.7.10"
  },
  "papermill": {
   "default_parameters": {},
   "duration": 32.130692,
   "end_time": "2021-10-26T14:40:15.967767",
   "environment_variables": {},
   "exception": null,
   "input_path": "__notebook__.ipynb",
   "output_path": "__notebook__.ipynb",
   "parameters": {},
   "start_time": "2021-10-26T14:39:43.837075",
   "version": "2.3.3"
  }
 },
 "nbformat": 4,
 "nbformat_minor": 5
}
