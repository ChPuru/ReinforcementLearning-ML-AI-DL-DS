{
 "cells": [
  {
   "cell_type": "markdown",
   "metadata": {},
   "source": [
    "## Import Modules"
   ]
  },
  {
   "cell_type": "code",
   "execution_count": null,
   "metadata": {
    "execution": {
     "iopub.execute_input": "2022-03-08T09:22:26.830667Z",
     "iopub.status.busy": "2022-03-08T09:22:26.830333Z",
     "iopub.status.idle": "2022-03-08T09:22:26.842451Z",
     "shell.execute_reply": "2022-03-08T09:22:26.841670Z",
     "shell.execute_reply.started": "2022-03-08T09:22:26.830628Z"
    },
    "trusted": true
   },
   "outputs": [],
   "source": [
    "import pandas as pd\n",
    "import numpy as np\n",
    "import os\n",
    "import matplotlib.pyplot as plt\n",
    "import seaborn as sns\n",
    "import warnings\n",
    "import random\n",
    "from tqdm.notebook import tqdm\n",
    "warnings.filterwarnings('ignore')\n",
    "%matplotlib inline\n",
    "\n",
    "import tensorflow as tf\n",
    "from tensorflow.keras.utils import to_categorical\n",
    "from keras.preprocessing.image import load_img\n",
    "from keras.models import Sequential\n",
    "from keras.layers import Dense, Conv2D, Dropout, Flatten, MaxPooling2D"
   ]
  },
  {
   "cell_type": "markdown",
   "metadata": {},
   "source": [
    "## Load the Dataset"
   ]
  },
  {
   "cell_type": "code",
   "execution_count": null,
   "metadata": {
    "execution": {
     "iopub.execute_input": "2022-03-08T08:39:01.176800Z",
     "iopub.status.busy": "2022-03-08T08:39:01.176549Z",
     "iopub.status.idle": "2022-03-08T08:39:01.181610Z",
     "shell.execute_reply": "2022-03-08T08:39:01.180866Z",
     "shell.execute_reply.started": "2022-03-08T08:39:01.176767Z"
    },
    "trusted": true
   },
   "outputs": [],
   "source": [
    "TRAIN_DIR = '../input/facial-expression-dataset/train/train/'\n",
    "TEST_DIR = '../input/facial-expression-dataset/test/test/'"
   ]
  },
  {
   "cell_type": "code",
   "execution_count": null,
   "metadata": {
    "execution": {
     "iopub.execute_input": "2022-03-08T08:41:37.810415Z",
     "iopub.status.busy": "2022-03-08T08:41:37.810099Z",
     "iopub.status.idle": "2022-03-08T08:41:37.821896Z",
     "shell.execute_reply": "2022-03-08T08:41:37.820927Z",
     "shell.execute_reply.started": "2022-03-08T08:41:37.810382Z"
    },
    "trusted": true
   },
   "outputs": [],
   "source": [
    "def load_dataset(directory):\n",
    "    image_paths = []\n",
    "    labels = []\n",
    "    \n",
    "    for label in os.listdir(directory):\n",
    "        for filename in os.listdir(directory+label):\n",
    "            image_path = os.path.join(directory, label, filename)\n",
    "            image_paths.append(image_path)\n",
    "            labels.append(label)\n",
    "            \n",
    "        print(label, \"Completed\")\n",
    "        \n",
    "    return image_paths, labels"
   ]
  },
  {
   "cell_type": "code",
   "execution_count": null,
   "metadata": {
    "execution": {
     "iopub.execute_input": "2022-03-08T08:43:26.824400Z",
     "iopub.status.busy": "2022-03-08T08:43:26.824033Z",
     "iopub.status.idle": "2022-03-08T08:43:29.808909Z",
     "shell.execute_reply": "2022-03-08T08:43:29.808127Z",
     "shell.execute_reply.started": "2022-03-08T08:43:26.824363Z"
    },
    "trusted": true
   },
   "outputs": [],
   "source": [
    "## convert into dataframe\n",
    "train = pd.DataFrame()\n",
    "train['image'], train['label'] = load_dataset(TRAIN_DIR)\n",
    "# shuffle the dataset\n",
    "train = train.sample(frac=1).reset_index(drop=True)\n",
    "train.head()"
   ]
  },
  {
   "cell_type": "code",
   "execution_count": null,
   "metadata": {
    "execution": {
     "iopub.execute_input": "2022-03-08T08:44:32.184543Z",
     "iopub.status.busy": "2022-03-08T08:44:32.183841Z",
     "iopub.status.idle": "2022-03-08T08:44:33.944433Z",
     "shell.execute_reply": "2022-03-08T08:44:33.943553Z",
     "shell.execute_reply.started": "2022-03-08T08:44:32.184508Z"
    },
    "trusted": true
   },
   "outputs": [],
   "source": [
    "test = pd.DataFrame()\n",
    "test['image'], test['label'] = load_dataset(TEST_DIR)\n",
    "test.head()"
   ]
  },
  {
   "cell_type": "markdown",
   "metadata": {},
   "source": [
    "## Exploratory Data Analysis"
   ]
  },
  {
   "cell_type": "code",
   "execution_count": null,
   "metadata": {
    "execution": {
     "iopub.execute_input": "2022-03-08T08:45:29.619809Z",
     "iopub.status.busy": "2022-03-08T08:45:29.619119Z",
     "iopub.status.idle": "2022-03-08T08:45:29.883475Z",
     "shell.execute_reply": "2022-03-08T08:45:29.882738Z",
     "shell.execute_reply.started": "2022-03-08T08:45:29.619772Z"
    },
    "trusted": true
   },
   "outputs": [],
   "source": [
    "sns.countplot(train['label'])"
   ]
  },
  {
   "cell_type": "code",
   "execution_count": null,
   "metadata": {
    "execution": {
     "iopub.execute_input": "2022-03-08T08:47:40.349893Z",
     "iopub.status.busy": "2022-03-08T08:47:40.349612Z",
     "iopub.status.idle": "2022-03-08T08:47:40.534504Z",
     "shell.execute_reply": "2022-03-08T08:47:40.533746Z",
     "shell.execute_reply.started": "2022-03-08T08:47:40.349848Z"
    },
    "trusted": true
   },
   "outputs": [],
   "source": [
    "from PIL import Image\n",
    "img = Image.open(train['image'][0])\n",
    "plt.imshow(img, cmap='gray');"
   ]
  },
  {
   "cell_type": "code",
   "execution_count": null,
   "metadata": {
    "execution": {
     "iopub.execute_input": "2022-03-08T08:51:35.066852Z",
     "iopub.status.busy": "2022-03-08T08:51:35.066098Z",
     "iopub.status.idle": "2022-03-08T08:51:36.251458Z",
     "shell.execute_reply": "2022-03-08T08:51:36.250720Z",
     "shell.execute_reply.started": "2022-03-08T08:51:35.066811Z"
    },
    "trusted": true
   },
   "outputs": [],
   "source": [
    "# to display grid of images\n",
    "plt.figure(figsize=(20,20))\n",
    "files = train.iloc[0:25]\n",
    "\n",
    "for index, file, label in files.itertuples():\n",
    "    plt.subplot(5, 5, index+1)\n",
    "    img = load_img(file)\n",
    "    img = np.array(img)\n",
    "    plt.imshow(img)\n",
    "    plt.title(label)\n",
    "    plt.axis('off')"
   ]
  },
  {
   "cell_type": "markdown",
   "metadata": {},
   "source": [
    "## Feature Extraction"
   ]
  },
  {
   "cell_type": "code",
   "execution_count": null,
   "metadata": {
    "execution": {
     "iopub.execute_input": "2022-03-08T08:56:02.698669Z",
     "iopub.status.busy": "2022-03-08T08:56:02.698004Z",
     "iopub.status.idle": "2022-03-08T08:56:02.704949Z",
     "shell.execute_reply": "2022-03-08T08:56:02.703932Z",
     "shell.execute_reply.started": "2022-03-08T08:56:02.698613Z"
    },
    "trusted": true
   },
   "outputs": [],
   "source": [
    "def extract_features(images):\n",
    "    features = []\n",
    "    for image in tqdm(images):\n",
    "        img = load_img(image, grayscale=True)\n",
    "        img = np.array(img)\n",
    "        features.append(img)\n",
    "    features = np.array(features)\n",
    "    features = features.reshape(len(features), 48, 48, 1)\n",
    "    return features"
   ]
  },
  {
   "cell_type": "code",
   "execution_count": null,
   "metadata": {
    "execution": {
     "iopub.execute_input": "2022-03-08T08:56:24.082598Z",
     "iopub.status.busy": "2022-03-08T08:56:24.082318Z",
     "iopub.status.idle": "2022-03-08T09:00:17.082282Z",
     "shell.execute_reply": "2022-03-08T09:00:17.081428Z",
     "shell.execute_reply.started": "2022-03-08T08:56:24.082567Z"
    },
    "trusted": true
   },
   "outputs": [],
   "source": [
    "train_features = extract_features(train['image'])"
   ]
  },
  {
   "cell_type": "code",
   "execution_count": null,
   "metadata": {
    "execution": {
     "iopub.execute_input": "2022-03-08T09:00:17.084167Z",
     "iopub.status.busy": "2022-03-08T09:00:17.083803Z",
     "iopub.status.idle": "2022-03-08T09:01:07.412496Z",
     "shell.execute_reply": "2022-03-08T09:01:07.411731Z",
     "shell.execute_reply.started": "2022-03-08T09:00:17.084128Z"
    },
    "trusted": true
   },
   "outputs": [],
   "source": [
    "test_features = extract_features(test['image'])"
   ]
  },
  {
   "cell_type": "code",
   "execution_count": null,
   "metadata": {
    "execution": {
     "iopub.execute_input": "2022-03-08T09:01:41.626456Z",
     "iopub.status.busy": "2022-03-08T09:01:41.625843Z",
     "iopub.status.idle": "2022-03-08T09:01:41.845867Z",
     "shell.execute_reply": "2022-03-08T09:01:41.844932Z",
     "shell.execute_reply.started": "2022-03-08T09:01:41.626414Z"
    },
    "trusted": true
   },
   "outputs": [],
   "source": [
    "## normalize the image\n",
    "x_train = train_features/255.0\n",
    "x_test = test_features/255.0"
   ]
  },
  {
   "cell_type": "code",
   "execution_count": null,
   "metadata": {
    "execution": {
     "iopub.execute_input": "2022-03-08T09:01:42.630692Z",
     "iopub.status.busy": "2022-03-08T09:01:42.630399Z",
     "iopub.status.idle": "2022-03-08T09:01:42.757580Z",
     "shell.execute_reply": "2022-03-08T09:01:42.756888Z",
     "shell.execute_reply.started": "2022-03-08T09:01:42.630661Z"
    },
    "trusted": true
   },
   "outputs": [],
   "source": [
    "## convert label to integer\n",
    "from sklearn.preprocessing import LabelEncoder\n",
    "le = LabelEncoder()\n",
    "le.fit(train['label'])\n",
    "y_train = le.transform(train['label'])\n",
    "y_test = le.transform(test['label'])"
   ]
  },
  {
   "cell_type": "code",
   "execution_count": null,
   "metadata": {
    "execution": {
     "iopub.execute_input": "2022-03-08T09:04:32.481917Z",
     "iopub.status.busy": "2022-03-08T09:04:32.481139Z",
     "iopub.status.idle": "2022-03-08T09:04:32.487546Z",
     "shell.execute_reply": "2022-03-08T09:04:32.486772Z",
     "shell.execute_reply.started": "2022-03-08T09:04:32.481849Z"
    },
    "trusted": true
   },
   "outputs": [],
   "source": [
    "y_train = to_categorical(y_train, num_classes=7)\n",
    "y_test = to_categorical(y_test, num_classes=7)"
   ]
  },
  {
   "cell_type": "code",
   "execution_count": null,
   "metadata": {
    "execution": {
     "iopub.execute_input": "2022-03-08T09:04:45.227940Z",
     "iopub.status.busy": "2022-03-08T09:04:45.227645Z",
     "iopub.status.idle": "2022-03-08T09:04:45.233640Z",
     "shell.execute_reply": "2022-03-08T09:04:45.232814Z",
     "shell.execute_reply.started": "2022-03-08T09:04:45.227900Z"
    },
    "trusted": true
   },
   "outputs": [],
   "source": [
    "y_train[0]"
   ]
  },
  {
   "cell_type": "code",
   "execution_count": null,
   "metadata": {
    "execution": {
     "iopub.execute_input": "2022-03-08T09:04:35.685976Z",
     "iopub.status.busy": "2022-03-08T09:04:35.685445Z",
     "iopub.status.idle": "2022-03-08T09:04:35.691279Z",
     "shell.execute_reply": "2022-03-08T09:04:35.689418Z",
     "shell.execute_reply.started": "2022-03-08T09:04:35.685940Z"
    },
    "trusted": true
   },
   "outputs": [],
   "source": [
    "# config\n",
    "input_shape = (48, 48, 1)\n",
    "output_class = 7"
   ]
  },
  {
   "cell_type": "markdown",
   "metadata": {},
   "source": [
    "## Model Creation"
   ]
  },
  {
   "cell_type": "code",
   "execution_count": null,
   "metadata": {
    "execution": {
     "iopub.execute_input": "2022-03-08T09:10:06.442110Z",
     "iopub.status.busy": "2022-03-08T09:10:06.441273Z",
     "iopub.status.idle": "2022-03-08T09:10:06.544618Z",
     "shell.execute_reply": "2022-03-08T09:10:06.543902Z",
     "shell.execute_reply.started": "2022-03-08T09:10:06.442069Z"
    },
    "trusted": true
   },
   "outputs": [],
   "source": [
    "model = Sequential()\n",
    "# convolutional layers\n",
    "model.add(Conv2D(128, kernel_size=(3,3), activation='relu', input_shape=input_shape))\n",
    "model.add(MaxPooling2D(pool_size=(2,2)))\n",
    "model.add(Dropout(0.4))\n",
    "\n",
    "model.add(Conv2D(256, kernel_size=(3,3), activation='relu'))\n",
    "model.add(MaxPooling2D(pool_size=(2,2)))\n",
    "model.add(Dropout(0.4))\n",
    "\n",
    "model.add(Conv2D(512, kernel_size=(3,3), activation='relu'))\n",
    "model.add(MaxPooling2D(pool_size=(2,2)))\n",
    "model.add(Dropout(0.4))\n",
    "\n",
    "model.add(Conv2D(512, kernel_size=(3,3), activation='relu'))\n",
    "model.add(MaxPooling2D(pool_size=(2,2)))\n",
    "model.add(Dropout(0.4))\n",
    "\n",
    "model.add(Flatten())\n",
    "# fully connected layers\n",
    "model.add(Dense(512, activation='relu'))\n",
    "model.add(Dropout(0.4))\n",
    "model.add(Dense(256, activation='relu'))\n",
    "model.add(Dropout(0.3))\n",
    "# output layer\n",
    "model.add(Dense(output_class, activation='softmax'))\n",
    "\n",
    "model.compile(optimizer='adam', loss='categorical_crossentropy', metrics='accuracy')"
   ]
  },
  {
   "cell_type": "code",
   "execution_count": null,
   "metadata": {
    "execution": {
     "iopub.execute_input": "2022-03-08T09:11:03.564575Z",
     "iopub.status.busy": "2022-03-08T09:11:03.563754Z",
     "iopub.status.idle": "2022-03-08T09:22:26.816334Z",
     "shell.execute_reply": "2022-03-08T09:22:26.815030Z",
     "shell.execute_reply.started": "2022-03-08T09:11:03.564536Z"
    },
    "trusted": true
   },
   "outputs": [],
   "source": [
    "# train the model\n",
    "history = model.fit(x=x_train, y=y_train, batch_size=128, epochs=100, validation_data=(x_test, y_test))"
   ]
  },
  {
   "cell_type": "markdown",
   "metadata": {},
   "source": [
    "## Plot the Results"
   ]
  },
  {
   "cell_type": "code",
   "execution_count": null,
   "metadata": {
    "execution": {
     "iopub.execute_input": "2022-03-08T09:22:43.434954Z",
     "iopub.status.busy": "2022-03-08T09:22:43.434672Z",
     "iopub.status.idle": "2022-03-08T09:22:43.833664Z",
     "shell.execute_reply": "2022-03-08T09:22:43.832774Z",
     "shell.execute_reply.started": "2022-03-08T09:22:43.434922Z"
    },
    "trusted": true
   },
   "outputs": [],
   "source": [
    "acc = history.history['accuracy']\n",
    "val_acc = history.history['val_accuracy']\n",
    "epochs = range(len(acc))\n",
    "\n",
    "plt.plot(epochs, acc, 'b', label='Training Accuracy')\n",
    "plt.plot(epochs, val_acc, 'r', label='Validation Accuracy')\n",
    "plt.title('Accuracy Graph')\n",
    "plt.legend()\n",
    "plt.figure()\n",
    "\n",
    "loss = history.history['loss']\n",
    "val_loss = history.history['val_loss']\n",
    "epochs = range(len(acc))\n",
    "\n",
    "plt.plot(epochs, loss, 'b', label='Training Loss')\n",
    "plt.plot(epochs, val_loss, 'r', label='Validation Loss')\n",
    "plt.title('Loss Graph')\n",
    "plt.legend()\n",
    "\n",
    "plt.show()"
   ]
  },
  {
   "cell_type": "markdown",
   "metadata": {},
   "source": [
    "## Test with Image Data"
   ]
  },
  {
   "cell_type": "code",
   "execution_count": null,
   "metadata": {
    "execution": {
     "iopub.execute_input": "2022-03-08T09:25:55.818139Z",
     "iopub.status.busy": "2022-03-08T09:25:55.817587Z",
     "iopub.status.idle": "2022-03-08T09:25:56.043216Z",
     "shell.execute_reply": "2022-03-08T09:25:56.042521Z",
     "shell.execute_reply.started": "2022-03-08T09:25:55.818098Z"
    },
    "trusted": true
   },
   "outputs": [],
   "source": [
    "image_index = random.randint(0, len(test))\n",
    "print(\"Original Output:\", test['label'][image_index])\n",
    "pred = model.predict(x_test[image_index].reshape(1, 48, 48, 1))\n",
    "prediction_label = le.inverse_transform([pred.argmax()])[0]\n",
    "print(\"Predicted Output:\", prediction_label)\n",
    "plt.imshow(x_test[image_index].reshape(48, 48), cmap='gray');"
   ]
  },
  {
   "cell_type": "code",
   "execution_count": null,
   "metadata": {
    "execution": {
     "iopub.execute_input": "2022-03-08T09:26:16.592623Z",
     "iopub.status.busy": "2022-03-08T09:26:16.592016Z",
     "iopub.status.idle": "2022-03-08T09:26:16.812691Z",
     "shell.execute_reply": "2022-03-08T09:26:16.811921Z",
     "shell.execute_reply.started": "2022-03-08T09:26:16.592583Z"
    },
    "trusted": true
   },
   "outputs": [],
   "source": [
    "image_index = random.randint(0, len(test))\n",
    "print(\"Original Output:\", test['label'][image_index])\n",
    "pred = model.predict(x_test[image_index].reshape(1, 48, 48, 1))\n",
    "prediction_label = le.inverse_transform([pred.argmax()])[0]\n",
    "print(\"Predicted Output:\", prediction_label)\n",
    "plt.imshow(x_test[image_index].reshape(48, 48), cmap='gray');"
   ]
  },
  {
   "cell_type": "code",
   "execution_count": null,
   "metadata": {
    "execution": {
     "iopub.execute_input": "2022-03-08T09:26:21.894327Z",
     "iopub.status.busy": "2022-03-08T09:26:21.893723Z",
     "iopub.status.idle": "2022-03-08T09:26:22.128679Z",
     "shell.execute_reply": "2022-03-08T09:26:22.127931Z",
     "shell.execute_reply.started": "2022-03-08T09:26:21.894284Z"
    },
    "trusted": true
   },
   "outputs": [],
   "source": [
    "image_index = random.randint(0, len(test))\n",
    "print(\"Original Output:\", test['label'][image_index])\n",
    "pred = model.predict(x_test[image_index].reshape(1, 48, 48, 1))\n",
    "prediction_label = le.inverse_transform([pred.argmax()])[0]\n",
    "print(\"Predicted Output:\", prediction_label)\n",
    "plt.imshow(x_test[image_index].reshape(48, 48), cmap='gray');"
   ]
  }
 ],
 "metadata": {
  "kernelspec": {
   "display_name": "Python 3",
   "language": "python",
   "name": "python3"
  },
  "language_info": {
   "codemirror_mode": {
    "name": "ipython",
    "version": 3
   },
   "file_extension": ".py",
   "mimetype": "text/x-python",
   "name": "python",
   "nbconvert_exporter": "python",
   "pygments_lexer": "ipython3",
   "version": "3.7.12"
  }
 },
 "nbformat": 4,
 "nbformat_minor": 4
}
